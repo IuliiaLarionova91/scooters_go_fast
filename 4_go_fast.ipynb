{
 "cells": [
  {
   "cell_type": "markdown",
   "id": "7f69590c",
   "metadata": {},
   "source": [
    "# Cервис аренды самокатов GoFast"
   ]
  },
  {
   "cell_type": "markdown",
   "id": "16aa84f7",
   "metadata": {},
   "source": [
    "**У нас есть данные о некоторых пользователях из нескольких городов, а также об их поездках. Мы проанализируем данные и проверим некоторые гипотезы, которые могут помочь бизнесу вырасти.**\n",
    "\n",
    "\n",
    "**Есть 2 категории людей, которые пользуются сервисом GoFast пользуются в мобильным приложением:**\n",
    "    \n",
    "    без подписки\n",
    "        абонентская плата отсутствует;\n",
    "        стоимость одной минуты поездки — 8 рублей;\n",
    "        стоимость старта (начала поездки) — 50 рублей;\n",
    "\n",
    "    с подпиской Ultra\n",
    "        абонентская плата — 199 рублей в месяц;\n",
    "        стоимость одной минуты поездки — 6 рублей;\n",
    "        стоимость старта — бесплатно.\n",
    "        \n",
    "Наши цели,это проверить гипотезы:\n",
    "1. Тратят ли пользователи с подпиской больше времени на поездки? \n",
    "2. Расстояние одной поездки в 3130 метров — оптимальное с точки зрения износа самоката. Можно ли сказать, что расстояние, которое проезжают пользователи с подпиской за одну поездку, не превышает 3130 метров? \n",
    "3. Будет ли помесячная выручка от пользователей с подпиской по месяцам выше, чем выручка от пользователей без подписки.\n",
    "4. Техническая команда сервиса обновила сервера, с которыми взаимодействует мобильное приложение. Снизилось ли количество обращений в техподдержку значимо снизилось из-за обновления?\n",
    "\n",
    "\n",
    "Ход исследования.\n",
    "\n",
    "Данные о поведении пользователей мы получили из файлов /datasets/users_go.csv, /datasets/rides_go.csv, /datasets/subscriptions_go.csv. О качестве данных ничего не известно. Поэтому перед проверкой гипотез понадобится обзор данных.\n",
    "\n",
    "Мы проверим данные на ошибки и оценим их влияние на исследование.\n",
    "\n",
    "Таким образом, исследование пройдёт в три этапа:\n",
    "\n",
    "    Обзор данных.\n",
    "    Предобработка данных.\n",
    "    Проверка гипотез."
   ]
  },
  {
   "cell_type": "code",
   "execution_count": 107,
   "id": "f563499c",
   "metadata": {},
   "outputs": [],
   "source": [
    "import pandas as pd\n",
    "import matplotlib.pyplot as plt\n",
    "import numpy as np\n",
    "import scipy.stats as st\n",
    "from scipy.stats import binom, poisson, norm\n",
    "from math import sqrt"
   ]
  },
  {
   "cell_type": "markdown",
   "id": "7dc8b94c",
   "metadata": {},
   "source": [
    "#### Шаг 1. Загрузка данных"
   ]
  },
  {
   "cell_type": "markdown",
   "id": "65614e23",
   "metadata": {},
   "source": [
    "1.1 Считаем CSV-файлы с данными с помощью библиотеки pandas и сохраните их в датафреймы. \n",
    "    \n",
    "1.2 Выведем первые строки каждого набора данных. Изучим общую информацию о каждом датафрейме."
   ]
  },
  {
   "cell_type": "code",
   "execution_count": 108,
   "id": "81e4b816",
   "metadata": {},
   "outputs": [],
   "source": [
    "datausers = pd.read_csv('users_go.csv')\n",
    "datarides = pd.read_csv('rides_go.csv')\n",
    "datasubscriptions = pd.read_csv('subscriptions_go.csv')\n"
   ]
  },
  {
   "cell_type": "code",
   "execution_count": 109,
   "id": "81ef258d",
   "metadata": {},
   "outputs": [
    {
     "data": {
      "text/html": [
       "<div>\n",
       "<style scoped>\n",
       "    .dataframe tbody tr th:only-of-type {\n",
       "        vertical-align: middle;\n",
       "    }\n",
       "\n",
       "    .dataframe tbody tr th {\n",
       "        vertical-align: top;\n",
       "    }\n",
       "\n",
       "    .dataframe thead th {\n",
       "        text-align: right;\n",
       "    }\n",
       "</style>\n",
       "<table border=\"1\" class=\"dataframe\">\n",
       "  <thead>\n",
       "    <tr style=\"text-align: right;\">\n",
       "      <th></th>\n",
       "      <th>user_id</th>\n",
       "      <th>name</th>\n",
       "      <th>age</th>\n",
       "      <th>city</th>\n",
       "      <th>subscription_type</th>\n",
       "    </tr>\n",
       "  </thead>\n",
       "  <tbody>\n",
       "    <tr>\n",
       "      <th>0</th>\n",
       "      <td>1</td>\n",
       "      <td>Кира</td>\n",
       "      <td>22</td>\n",
       "      <td>Тюмень</td>\n",
       "      <td>ultra</td>\n",
       "    </tr>\n",
       "    <tr>\n",
       "      <th>1</th>\n",
       "      <td>2</td>\n",
       "      <td>Станислав</td>\n",
       "      <td>31</td>\n",
       "      <td>Омск</td>\n",
       "      <td>ultra</td>\n",
       "    </tr>\n",
       "    <tr>\n",
       "      <th>2</th>\n",
       "      <td>3</td>\n",
       "      <td>Алексей</td>\n",
       "      <td>20</td>\n",
       "      <td>Москва</td>\n",
       "      <td>ultra</td>\n",
       "    </tr>\n",
       "    <tr>\n",
       "      <th>3</th>\n",
       "      <td>4</td>\n",
       "      <td>Константин</td>\n",
       "      <td>26</td>\n",
       "      <td>Ростов-на-Дону</td>\n",
       "      <td>ultra</td>\n",
       "    </tr>\n",
       "    <tr>\n",
       "      <th>4</th>\n",
       "      <td>5</td>\n",
       "      <td>Адель</td>\n",
       "      <td>28</td>\n",
       "      <td>Омск</td>\n",
       "      <td>ultra</td>\n",
       "    </tr>\n",
       "  </tbody>\n",
       "</table>\n",
       "</div>"
      ],
      "text/plain": [
       "   user_id        name  age            city subscription_type\n",
       "0        1        Кира   22          Тюмень             ultra\n",
       "1        2   Станислав   31            Омск             ultra\n",
       "2        3     Алексей   20          Москва             ultra\n",
       "3        4  Константин   26  Ростов-на-Дону             ultra\n",
       "4        5       Адель   28            Омск             ultra"
      ]
     },
     "execution_count": 109,
     "metadata": {},
     "output_type": "execute_result"
    }
   ],
   "source": [
    "datausers.head()"
   ]
  },
  {
   "cell_type": "code",
   "execution_count": 110,
   "id": "5de8c1a2",
   "metadata": {},
   "outputs": [
    {
     "data": {
      "text/html": [
       "<div>\n",
       "<style scoped>\n",
       "    .dataframe tbody tr th:only-of-type {\n",
       "        vertical-align: middle;\n",
       "    }\n",
       "\n",
       "    .dataframe tbody tr th {\n",
       "        vertical-align: top;\n",
       "    }\n",
       "\n",
       "    .dataframe thead th {\n",
       "        text-align: right;\n",
       "    }\n",
       "</style>\n",
       "<table border=\"1\" class=\"dataframe\">\n",
       "  <thead>\n",
       "    <tr style=\"text-align: right;\">\n",
       "      <th></th>\n",
       "      <th>user_id</th>\n",
       "      <th>distance</th>\n",
       "      <th>duration</th>\n",
       "      <th>date</th>\n",
       "    </tr>\n",
       "  </thead>\n",
       "  <tbody>\n",
       "    <tr>\n",
       "      <th>0</th>\n",
       "      <td>1</td>\n",
       "      <td>4409.919140</td>\n",
       "      <td>25.599769</td>\n",
       "      <td>2021-01-01</td>\n",
       "    </tr>\n",
       "    <tr>\n",
       "      <th>1</th>\n",
       "      <td>1</td>\n",
       "      <td>2617.592153</td>\n",
       "      <td>15.816871</td>\n",
       "      <td>2021-01-18</td>\n",
       "    </tr>\n",
       "    <tr>\n",
       "      <th>2</th>\n",
       "      <td>1</td>\n",
       "      <td>754.159807</td>\n",
       "      <td>6.232113</td>\n",
       "      <td>2021-04-20</td>\n",
       "    </tr>\n",
       "    <tr>\n",
       "      <th>3</th>\n",
       "      <td>1</td>\n",
       "      <td>2694.783254</td>\n",
       "      <td>18.511000</td>\n",
       "      <td>2021-08-11</td>\n",
       "    </tr>\n",
       "    <tr>\n",
       "      <th>4</th>\n",
       "      <td>1</td>\n",
       "      <td>4028.687306</td>\n",
       "      <td>26.265803</td>\n",
       "      <td>2021-08-28</td>\n",
       "    </tr>\n",
       "  </tbody>\n",
       "</table>\n",
       "</div>"
      ],
      "text/plain": [
       "   user_id     distance   duration        date\n",
       "0        1  4409.919140  25.599769  2021-01-01\n",
       "1        1  2617.592153  15.816871  2021-01-18\n",
       "2        1   754.159807   6.232113  2021-04-20\n",
       "3        1  2694.783254  18.511000  2021-08-11\n",
       "4        1  4028.687306  26.265803  2021-08-28"
      ]
     },
     "execution_count": 110,
     "metadata": {},
     "output_type": "execute_result"
    }
   ],
   "source": [
    "datarides.head()"
   ]
  },
  {
   "cell_type": "code",
   "execution_count": 111,
   "id": "47960758",
   "metadata": {
    "scrolled": true
   },
   "outputs": [
    {
     "data": {
      "text/html": [
       "<div>\n",
       "<style scoped>\n",
       "    .dataframe tbody tr th:only-of-type {\n",
       "        vertical-align: middle;\n",
       "    }\n",
       "\n",
       "    .dataframe tbody tr th {\n",
       "        vertical-align: top;\n",
       "    }\n",
       "\n",
       "    .dataframe thead th {\n",
       "        text-align: right;\n",
       "    }\n",
       "</style>\n",
       "<table border=\"1\" class=\"dataframe\">\n",
       "  <thead>\n",
       "    <tr style=\"text-align: right;\">\n",
       "      <th></th>\n",
       "      <th>subscription_type</th>\n",
       "      <th>minute_price</th>\n",
       "      <th>start_ride_price</th>\n",
       "      <th>subscription_fee</th>\n",
       "    </tr>\n",
       "  </thead>\n",
       "  <tbody>\n",
       "    <tr>\n",
       "      <th>0</th>\n",
       "      <td>free</td>\n",
       "      <td>8</td>\n",
       "      <td>50</td>\n",
       "      <td>0</td>\n",
       "    </tr>\n",
       "    <tr>\n",
       "      <th>1</th>\n",
       "      <td>ultra</td>\n",
       "      <td>6</td>\n",
       "      <td>0</td>\n",
       "      <td>199</td>\n",
       "    </tr>\n",
       "  </tbody>\n",
       "</table>\n",
       "</div>"
      ],
      "text/plain": [
       "  subscription_type  minute_price  start_ride_price  subscription_fee\n",
       "0              free             8                50                 0\n",
       "1             ultra             6                 0               199"
      ]
     },
     "execution_count": 111,
     "metadata": {},
     "output_type": "execute_result"
    }
   ],
   "source": [
    "datasubscriptions.head()"
   ]
  },
  {
   "cell_type": "code",
   "execution_count": 112,
   "id": "61231b64",
   "metadata": {},
   "outputs": [
    {
     "name": "stdout",
     "output_type": "stream",
     "text": [
      "<class 'pandas.core.frame.DataFrame'>\n",
      "RangeIndex: 1565 entries, 0 to 1564\n",
      "Data columns (total 5 columns):\n",
      " #   Column             Non-Null Count  Dtype \n",
      "---  ------             --------------  ----- \n",
      " 0   user_id            1565 non-null   int64 \n",
      " 1   name               1565 non-null   object\n",
      " 2   age                1565 non-null   int64 \n",
      " 3   city               1565 non-null   object\n",
      " 4   subscription_type  1565 non-null   object\n",
      "dtypes: int64(2), object(3)\n",
      "memory usage: 61.3+ KB\n"
     ]
    }
   ],
   "source": [
    "datausers.info()"
   ]
  },
  {
   "cell_type": "code",
   "execution_count": 113,
   "id": "b1f26645",
   "metadata": {},
   "outputs": [
    {
     "name": "stdout",
     "output_type": "stream",
     "text": [
      "<class 'pandas.core.frame.DataFrame'>\n",
      "RangeIndex: 18068 entries, 0 to 18067\n",
      "Data columns (total 4 columns):\n",
      " #   Column    Non-Null Count  Dtype  \n",
      "---  ------    --------------  -----  \n",
      " 0   user_id   18068 non-null  int64  \n",
      " 1   distance  18068 non-null  float64\n",
      " 2   duration  18068 non-null  float64\n",
      " 3   date      18068 non-null  object \n",
      "dtypes: float64(2), int64(1), object(1)\n",
      "memory usage: 564.8+ KB\n"
     ]
    }
   ],
   "source": [
    "datarides.info()"
   ]
  },
  {
   "cell_type": "code",
   "execution_count": 114,
   "id": "5544f4b8",
   "metadata": {
    "scrolled": true
   },
   "outputs": [
    {
     "name": "stdout",
     "output_type": "stream",
     "text": [
      "<class 'pandas.core.frame.DataFrame'>\n",
      "RangeIndex: 2 entries, 0 to 1\n",
      "Data columns (total 4 columns):\n",
      " #   Column             Non-Null Count  Dtype \n",
      "---  ------             --------------  ----- \n",
      " 0   subscription_type  2 non-null      object\n",
      " 1   minute_price       2 non-null      int64 \n",
      " 2   start_ride_price   2 non-null      int64 \n",
      " 3   subscription_fee   2 non-null      int64 \n",
      "dtypes: int64(3), object(1)\n",
      "memory usage: 192.0+ bytes\n"
     ]
    }
   ],
   "source": [
    "datasubscriptions.info()"
   ]
  },
  {
   "cell_type": "markdown",
   "id": "102ef43b",
   "metadata": {},
   "source": [
    "Описание данных\n",
    "\n",
    "\n",
    "В основных данных есть информация о пользователях, их поездках и подписках.\n",
    "\n",
    "* Пользователи — users_go.csv - datausers\n",
    "    - user_id - уникальный идентификатор пользователя\n",
    "    - name - имя пользователя\n",
    "    - age - возраст\n",
    "    - city - город\n",
    "    - subscription_type - тип подписки (free, ultra)\n",
    "        \n",
    "* Поездки — rides_go.csv - datarides\n",
    "    - user_id\t- уникальный идентификатор пользователя\n",
    "    - distance - расстояние, которое пользователь проехал в текущей сессии (в метрах)\n",
    "    - duration - продолжительность сессии (в минутах) — время с того момента, как пользователь нажал кнопку «Начать поездку» до момента, как он нажал кнопку «Завершить поездку»\n",
    "    - date - дата совершения поездки\n",
    "        \n",
    "* Подписки — subscriptions_go.csv - datasubscriptions\n",
    "    - subscription_type - тип подписки\n",
    "    - minute_price - стоимость одной минуты поездки по данной подписке\n",
    "    - start_ride_price - стоимость начала поездки\n",
    "    - subscription_fee - стоимость ежемесячного платежа"
   ]
  },
  {
   "cell_type": "markdown",
   "id": "1aeb7eda",
   "metadata": {},
   "source": [
    "**Вывод:** в таблицах — данные о о пользователях, их поездках и подписках. Пропусков в данных нет. Думаю данных достаточно для проверки гипотез. Чтобы двигаться дальше проверим данные на аномалии."
   ]
  },
  {
   "cell_type": "markdown",
   "id": "8c7a53db",
   "metadata": {},
   "source": [
    "#### Шаг 2. Предобработка данных"
   ]
  },
  {
   "cell_type": "markdown",
   "id": "58e7f7ed",
   "metadata": {},
   "source": [
    "2.1 Приведем столбец date в таблице datarides к типу даты pandas."
   ]
  },
  {
   "cell_type": "code",
   "execution_count": 115,
   "id": "0d269d05",
   "metadata": {},
   "outputs": [
    {
     "name": "stdout",
     "output_type": "stream",
     "text": [
      "<class 'pandas.core.frame.DataFrame'>\n",
      "RangeIndex: 18068 entries, 0 to 18067\n",
      "Data columns (total 4 columns):\n",
      " #   Column    Non-Null Count  Dtype         \n",
      "---  ------    --------------  -----         \n",
      " 0   user_id   18068 non-null  int64         \n",
      " 1   distance  18068 non-null  float64       \n",
      " 2   duration  18068 non-null  float64       \n",
      " 3   date      18068 non-null  datetime64[ns]\n",
      "dtypes: datetime64[ns](1), float64(2), int64(1)\n",
      "memory usage: 564.8 KB\n"
     ]
    }
   ],
   "source": [
    "datarides['date'] = pd.to_datetime(datarides['date'], format='%Y-%m-%d')\n",
    "datarides.info()"
   ]
  },
  {
   "cell_type": "markdown",
   "id": "367b7c5e",
   "metadata": {},
   "source": [
    "2.2 Создадим новый столбец datemonth в таблице datarides с номером месяца на основе столбца date."
   ]
  },
  {
   "cell_type": "code",
   "execution_count": 116,
   "id": "fe8370c1",
   "metadata": {},
   "outputs": [
    {
     "data": {
      "text/plain": [
       "0         1\n",
       "1         1\n",
       "2         4\n",
       "3         8\n",
       "4         8\n",
       "         ..\n",
       "18063    11\n",
       "18064    11\n",
       "18065    11\n",
       "18066    11\n",
       "18067    12\n",
       "Name: datemonth, Length: 18068, dtype: int64"
      ]
     },
     "execution_count": 116,
     "metadata": {},
     "output_type": "execute_result"
    }
   ],
   "source": [
    "datarides['datemonth'] = pd.DatetimeIndex(datarides['date']).month\n",
    "datarides['datemonth']"
   ]
  },
  {
   "cell_type": "markdown",
   "id": "67f7ba2b",
   "metadata": {},
   "source": [
    "2.3 Проверим наличие дубликатов в датафреймах. Обработаем их, если такие значения присутствуют."
   ]
  },
  {
   "cell_type": "code",
   "execution_count": 117,
   "id": "b293a7c9",
   "metadata": {},
   "outputs": [
    {
     "data": {
      "text/plain": [
       "31"
      ]
     },
     "execution_count": 117,
     "metadata": {},
     "output_type": "execute_result"
    }
   ],
   "source": [
    "datausers.duplicated().sum()"
   ]
  },
  {
   "cell_type": "markdown",
   "id": "ad748457",
   "metadata": {},
   "source": [
    "Явных дубликатов в таблице datausers по пользователям 31. Удалим их с помощью метода drop_duplicates."
   ]
  },
  {
   "cell_type": "code",
   "execution_count": 118,
   "id": "2d00409e",
   "metadata": {},
   "outputs": [],
   "source": [
    "datausers = datausers.drop_duplicates()"
   ]
  },
  {
   "cell_type": "markdown",
   "id": "801b7383",
   "metadata": {},
   "source": [
    "Проверим наличие явных дубликатов после удаления."
   ]
  },
  {
   "cell_type": "code",
   "execution_count": 119,
   "id": "c92195aa",
   "metadata": {},
   "outputs": [
    {
     "data": {
      "text/plain": [
       "0"
      ]
     },
     "execution_count": 119,
     "metadata": {},
     "output_type": "execute_result"
    }
   ],
   "source": [
    "datausers.duplicated().sum()"
   ]
  },
  {
   "cell_type": "markdown",
   "id": "5709c50c",
   "metadata": {},
   "source": [
    "Дубликаты удалились, проделаем тоже самое по оставшимся 2 таблицам: datarides и datasubscriptions"
   ]
  },
  {
   "cell_type": "code",
   "execution_count": 120,
   "id": "db43b0a0",
   "metadata": {},
   "outputs": [
    {
     "data": {
      "text/plain": [
       "0"
      ]
     },
     "execution_count": 120,
     "metadata": {},
     "output_type": "execute_result"
    }
   ],
   "source": [
    "datarides.duplicated().sum()"
   ]
  },
  {
   "cell_type": "markdown",
   "id": "e78a5fbe",
   "metadata": {},
   "source": [
    "В таблице о поездках дубликатов нет."
   ]
  },
  {
   "cell_type": "code",
   "execution_count": 121,
   "id": "680ba1f2",
   "metadata": {},
   "outputs": [
    {
     "data": {
      "text/plain": [
       "0"
      ]
     },
     "execution_count": 121,
     "metadata": {},
     "output_type": "execute_result"
    }
   ],
   "source": [
    "datasubscriptions.duplicated().sum()"
   ]
  },
  {
   "cell_type": "markdown",
   "id": "4aad23be",
   "metadata": {},
   "source": [
    "В таблице о подписках дубликатов нет.\n",
    "\n",
    "Теперь проверим столбцы age,city,subscription_type,distance на неявные дубликаты и аномалии."
   ]
  },
  {
   "cell_type": "code",
   "execution_count": 122,
   "id": "5ece9d54",
   "metadata": {},
   "outputs": [
    {
     "data": {
      "text/plain": [
       "array([22, 31, 20, 26, 28, 25, 23, 21, 18, 27, 24, 29, 32, 14, 19, 30, 17,\n",
       "       12, 35, 33, 13, 15, 37, 16, 34, 38, 36, 39, 43], dtype=int64)"
      ]
     },
     "execution_count": 122,
     "metadata": {},
     "output_type": "execute_result"
    }
   ],
   "source": [
    "datausers['age'].unique()"
   ]
  },
  {
   "cell_type": "markdown",
   "id": "8166cd46",
   "metadata": {},
   "source": [
    "В столбце age выбивающихся значений нет."
   ]
  },
  {
   "cell_type": "code",
   "execution_count": 123,
   "id": "bc8d6420",
   "metadata": {},
   "outputs": [
    {
     "data": {
      "text/plain": [
       "array(['Тюмень', 'Омск', 'Москва', 'Ростов-на-Дону', 'Краснодар',\n",
       "       'Пятигорск', 'Екатеринбург', 'Сочи'], dtype=object)"
      ]
     },
     "execution_count": 123,
     "metadata": {},
     "output_type": "execute_result"
    }
   ],
   "source": [
    "datausers['city'].unique()"
   ]
  },
  {
   "cell_type": "markdown",
   "id": "b2ea776d",
   "metadata": {},
   "source": [
    "В столбце city неявных дубликатов нет."
   ]
  },
  {
   "cell_type": "code",
   "execution_count": 124,
   "id": "3ad0727e",
   "metadata": {
    "scrolled": true
   },
   "outputs": [
    {
     "data": {
      "text/plain": [
       "array(['ultra', 'free'], dtype=object)"
      ]
     },
     "execution_count": 124,
     "metadata": {},
     "output_type": "execute_result"
    }
   ],
   "source": [
    "datausers['subscription_type'].unique()"
   ]
  },
  {
   "cell_type": "markdown",
   "id": "4c9d62b6",
   "metadata": {},
   "source": [
    "В столбце subscription_type неявных дубликатов нет."
   ]
  },
  {
   "cell_type": "code",
   "execution_count": 125,
   "id": "0e04d778",
   "metadata": {},
   "outputs": [
    {
     "data": {
      "text/plain": [
       "array([4409.9191402 , 2617.59215346,  754.15980696, ..., 3826.1855073 ,\n",
       "       2902.30866066, 2371.71119224])"
      ]
     },
     "execution_count": 125,
     "metadata": {},
     "output_type": "execute_result"
    }
   ],
   "source": [
    "datarides['distance'].unique()"
   ]
  },
  {
   "cell_type": "markdown",
   "id": "b63f68f7",
   "metadata": {},
   "source": [
    "В столбце distance слишком много уникальных значений, поэтому построим гистограмму,что вычислить если выбивающиеся значения."
   ]
  },
  {
   "cell_type": "code",
   "execution_count": 126,
   "id": "a99038cd",
   "metadata": {},
   "outputs": [
    {
     "data": {
      "image/png": "[encoded data removed]",
      "text/plain": [
       "<Figure size 432x288 with 1 Axes>"
      ]
     },
     "metadata": {
      "needs_background": "light"
     },
     "output_type": "display_data"
    }
   ],
   "source": [
    "datarides['distance'].plot(kind='hist', bins = 10, title=\"Расстояние, которое пользователь преодолел за одну поездку\", xlabel = 'Расстояние', ylabel= 'количество людей', grid = True)\n",
    "plt.show()"
   ]
  },
  {
   "cell_type": "code",
   "execution_count": 127,
   "id": "11562432",
   "metadata": {},
   "outputs": [
    {
     "data": {
      "text/plain": [
       "array([   1,    2,    3, ..., 1532, 1533, 1534], dtype=int64)"
      ]
     },
     "execution_count": 127,
     "metadata": {},
     "output_type": "execute_result"
    }
   ],
   "source": [
    "datarides['user_id'].unique()"
   ]
  },
  {
   "cell_type": "code",
   "execution_count": 128,
   "id": "94871988",
   "metadata": {},
   "outputs": [
    {
     "data": {
      "text/plain": [
       "1534"
      ]
     },
     "execution_count": 128,
     "metadata": {},
     "output_type": "execute_result"
    }
   ],
   "source": [
    "datarides['user_id'].nunique()"
   ]
  },
  {
   "cell_type": "code",
   "execution_count": 129,
   "id": "050d1f02",
   "metadata": {},
   "outputs": [
    {
     "data": {
      "text/plain": [
       "18068"
      ]
     },
     "execution_count": 129,
     "metadata": {},
     "output_type": "execute_result"
    }
   ],
   "source": [
    "datarides['user_id'].count()"
   ]
  },
  {
   "cell_type": "code",
   "execution_count": 130,
   "id": "9c5db8fa",
   "metadata": {
    "scrolled": true
   },
   "outputs": [
    {
     "data": {
      "text/plain": [
       "array([   1,    2,    3, ..., 1532, 1533, 1534], dtype=int64)"
      ]
     },
     "execution_count": 130,
     "metadata": {},
     "output_type": "execute_result"
    }
   ],
   "source": [
    "datausers['user_id'].unique()"
   ]
  },
  {
   "cell_type": "code",
   "execution_count": 131,
   "id": "ce3685c4",
   "metadata": {},
   "outputs": [
    {
     "data": {
      "text/plain": [
       "1534"
      ]
     },
     "execution_count": 131,
     "metadata": {},
     "output_type": "execute_result"
    }
   ],
   "source": [
    "datausers['user_id'].nunique()"
   ]
  },
  {
   "cell_type": "code",
   "execution_count": 132,
   "id": "7a7b4925",
   "metadata": {},
   "outputs": [
    {
     "data": {
      "text/plain": [
       "1534"
      ]
     },
     "execution_count": 132,
     "metadata": {},
     "output_type": "execute_result"
    }
   ],
   "source": [
    "datausers['user_id'].count()"
   ]
  },
  {
   "cell_type": "markdown",
   "id": "53ad8848",
   "metadata": {},
   "source": [
    "В столбце user_id в таблицах datarides и datausers нет выбивающихся значений. И судя по тому,что количство уникальных значений совпадает и начало и конец уникальных значений тоже совпадает, можно будет объединить таблицы datausers и datarides по столбцу user_id в следующих шагах."
   ]
  },
  {
   "cell_type": "markdown",
   "id": "364440eb",
   "metadata": {},
   "source": [
    "Вывод.\n",
    "\n",
    "Мы привели столбец date в таблице datarides к типу даты pandas.\n",
    "\n",
    "Мы обнаружили 31 явный дубликат в таблице datausers по пользователям и удалили их с помощью метода drop_duplicates. \n",
    "\n",
    "Мы создали новый столбец datemonth в таблице datarides с номером месяца на основе столбца date.\n",
    "\n",
    "Неявные дубликаты мы не обнаружили. Обнаружили, столбцы user_id в таблицах datausers и datarides по уникальным значениям совпадают, значит по ним можно будет соединять 2 таблицы.\n",
    "\n",
    "В эксперименте участвуют 8 городов, 1534 человека."
   ]
  },
  {
   "cell_type": "markdown",
   "id": "5452c183",
   "metadata": {},
   "source": [
    "#### Шаг 3. Исследовательский анализ данных"
   ]
  },
  {
   "cell_type": "markdown",
   "id": "00760b07",
   "metadata": {},
   "source": [
    "Опишем и визуализируем общую информацию о пользователях и поездках.\n",
    "\n",
    "    3.1 частота встречаемости городов;\n",
    "    3.2 соотношение пользователей с подпиской и без подписки;\n",
    "    3.3 возраст пользователей;\n",
    "    3.4 расстояние, которое пользователь преодолел за одну поездку;\n",
    "    3.5 продолжительность поездок."
   ]
  },
  {
   "cell_type": "code",
   "execution_count": 133,
   "id": "9758eb91",
   "metadata": {},
   "outputs": [
    {
     "data": {
      "text/html": [
       "<div>\n",
       "<style scoped>\n",
       "    .dataframe tbody tr th:only-of-type {\n",
       "        vertical-align: middle;\n",
       "    }\n",
       "\n",
       "    .dataframe tbody tr th {\n",
       "        vertical-align: top;\n",
       "    }\n",
       "\n",
       "    .dataframe thead th {\n",
       "        text-align: right;\n",
       "    }\n",
       "</style>\n",
       "<table border=\"1\" class=\"dataframe\">\n",
       "  <thead>\n",
       "    <tr style=\"text-align: right;\">\n",
       "      <th></th>\n",
       "      <th>user_id</th>\n",
       "      <th>name</th>\n",
       "      <th>age</th>\n",
       "      <th>city</th>\n",
       "      <th>subscription_type</th>\n",
       "    </tr>\n",
       "  </thead>\n",
       "  <tbody>\n",
       "    <tr>\n",
       "      <th>0</th>\n",
       "      <td>1</td>\n",
       "      <td>Кира</td>\n",
       "      <td>22</td>\n",
       "      <td>Тюмень</td>\n",
       "      <td>ultra</td>\n",
       "    </tr>\n",
       "    <tr>\n",
       "      <th>1</th>\n",
       "      <td>2</td>\n",
       "      <td>Станислав</td>\n",
       "      <td>31</td>\n",
       "      <td>Омск</td>\n",
       "      <td>ultra</td>\n",
       "    </tr>\n",
       "    <tr>\n",
       "      <th>2</th>\n",
       "      <td>3</td>\n",
       "      <td>Алексей</td>\n",
       "      <td>20</td>\n",
       "      <td>Москва</td>\n",
       "      <td>ultra</td>\n",
       "    </tr>\n",
       "    <tr>\n",
       "      <th>3</th>\n",
       "      <td>4</td>\n",
       "      <td>Константин</td>\n",
       "      <td>26</td>\n",
       "      <td>Ростов-на-Дону</td>\n",
       "      <td>ultra</td>\n",
       "    </tr>\n",
       "    <tr>\n",
       "      <th>4</th>\n",
       "      <td>5</td>\n",
       "      <td>Адель</td>\n",
       "      <td>28</td>\n",
       "      <td>Омск</td>\n",
       "      <td>ultra</td>\n",
       "    </tr>\n",
       "    <tr>\n",
       "      <th>...</th>\n",
       "      <td>...</td>\n",
       "      <td>...</td>\n",
       "      <td>...</td>\n",
       "      <td>...</td>\n",
       "      <td>...</td>\n",
       "    </tr>\n",
       "    <tr>\n",
       "      <th>1529</th>\n",
       "      <td>1530</td>\n",
       "      <td>Ростислав</td>\n",
       "      <td>29</td>\n",
       "      <td>Сочи</td>\n",
       "      <td>free</td>\n",
       "    </tr>\n",
       "    <tr>\n",
       "      <th>1530</th>\n",
       "      <td>1531</td>\n",
       "      <td>Никита</td>\n",
       "      <td>25</td>\n",
       "      <td>Пятигорск</td>\n",
       "      <td>free</td>\n",
       "    </tr>\n",
       "    <tr>\n",
       "      <th>1531</th>\n",
       "      <td>1532</td>\n",
       "      <td>Алексей</td>\n",
       "      <td>26</td>\n",
       "      <td>Тюмень</td>\n",
       "      <td>free</td>\n",
       "    </tr>\n",
       "    <tr>\n",
       "      <th>1532</th>\n",
       "      <td>1533</td>\n",
       "      <td>Степан</td>\n",
       "      <td>22</td>\n",
       "      <td>Краснодар</td>\n",
       "      <td>free</td>\n",
       "    </tr>\n",
       "    <tr>\n",
       "      <th>1533</th>\n",
       "      <td>1534</td>\n",
       "      <td>Альберт</td>\n",
       "      <td>25</td>\n",
       "      <td>Краснодар</td>\n",
       "      <td>free</td>\n",
       "    </tr>\n",
       "  </tbody>\n",
       "</table>\n",
       "<p>1534 rows × 5 columns</p>\n",
       "</div>"
      ],
      "text/plain": [
       "      user_id        name  age            city subscription_type\n",
       "0           1        Кира   22          Тюмень             ultra\n",
       "1           2   Станислав   31            Омск             ultra\n",
       "2           3     Алексей   20          Москва             ultra\n",
       "3           4  Константин   26  Ростов-на-Дону             ultra\n",
       "4           5       Адель   28            Омск             ultra\n",
       "...       ...         ...  ...             ...               ...\n",
       "1529     1530   Ростислав   29            Сочи              free\n",
       "1530     1531      Никита   25       Пятигорск              free\n",
       "1531     1532     Алексей   26          Тюмень              free\n",
       "1532     1533      Степан   22       Краснодар              free\n",
       "1533     1534     Альберт   25       Краснодар              free\n",
       "\n",
       "[1534 rows x 5 columns]"
      ]
     },
     "execution_count": 133,
     "metadata": {},
     "output_type": "execute_result"
    }
   ],
   "source": [
    "datausers"
   ]
  },
  {
   "cell_type": "code",
   "execution_count": 134,
   "id": "125f6a66",
   "metadata": {
    "scrolled": true
   },
   "outputs": [
    {
     "data": {
      "image/png": "[encoded data removed]",
      "text/plain": [
       "<Figure size 432x288 with 1 Axes>"
      ]
     },
     "metadata": {
      "needs_background": "light"
     },
     "output_type": "display_data"
    }
   ],
   "source": [
    "datausers['city'].value_counts().plot(kind='bar', title=\"Количество людей в городах\", xlabel = 'город', ylabel= 'количество людей', grid = True)\n",
    "plt.show()"
   ]
  },
  {
   "cell_type": "markdown",
   "id": "6bbed17a",
   "metadata": {},
   "source": [
    "Чаще всего встречается Пятигорск, более 200 человек, меньше всего Москва, 175 примерно."
   ]
  },
  {
   "cell_type": "code",
   "execution_count": 135,
   "id": "9c4a68cb",
   "metadata": {},
   "outputs": [
    {
     "data": {
      "image/png": "[encoded data removed]",
      "text/plain": [
       "<Figure size 432x288 with 1 Axes>"
      ]
     },
     "metadata": {
      "needs_background": "light"
     },
     "output_type": "display_data"
    }
   ],
   "source": [
    "datausers['subscription_type'].value_counts().plot(kind='bar', title=\"Соотношение Пользователей С Подпиской И Без Подписки\", xlabel = 'подписка', ylabel= 'количество людей', grid = True)\n",
    "plt.show()"
   ]
  },
  {
   "cell_type": "markdown",
   "id": "c5872713",
   "metadata": {},
   "source": [
    "Больше всего людей без подписки."
   ]
  },
  {
   "cell_type": "code",
   "execution_count": 136,
   "id": "b2034456",
   "metadata": {},
   "outputs": [
    {
     "data": {
      "image/png": "[encoded data removed]",
      "text/plain": [
       "<Figure size 432x288 with 1 Axes>"
      ]
     },
     "metadata": {
      "needs_background": "light"
     },
     "output_type": "display_data"
    }
   ],
   "source": [
    "datausers['age'].plot(kind='hist', title=\"Соотношение Пользователей С Подпиской И Без Подписки\", xlabel = 'возраст пользователей', ylabel= 'количество людей', grid = True)\n",
    "plt.show()"
   ]
  },
  {
   "cell_type": "code",
   "execution_count": 137,
   "id": "21f8dde4",
   "metadata": {},
   "outputs": [
    {
     "data": {
      "text/plain": [
       "count    1534.000000\n",
       "mean       24.903520\n",
       "std         4.572367\n",
       "min        12.000000\n",
       "25%        22.000000\n",
       "50%        25.000000\n",
       "75%        28.000000\n",
       "max        43.000000\n",
       "Name: age, dtype: float64"
      ]
     },
     "execution_count": 137,
     "metadata": {},
     "output_type": "execute_result"
    }
   ],
   "source": [
    "datausers['age'].describe()"
   ]
  },
  {
   "cell_type": "markdown",
   "id": "2ee5639e",
   "metadata": {},
   "source": [
    "Самый популярный возраст пользователей от 24 до 28. Меньше всего от 35 до 40. Учитывая, что в правилах проката электросамокатов запрещена аренда детьми до 18 лет, то странно видеть тут пользователей  свозрастом меньше 18."
   ]
  },
  {
   "cell_type": "code",
   "execution_count": 138,
   "id": "76325341",
   "metadata": {},
   "outputs": [
    {
     "data": {
      "image/png": "[encoded data removed]",
      "text/plain": [
       "<Figure size 432x288 with 1 Axes>"
      ]
     },
     "metadata": {
      "needs_background": "light"
     },
     "output_type": "display_data"
    }
   ],
   "source": [
    "datarides['distance'].plot(kind='hist', bins = 20, title=\"Расстояние, которое пользователь преодолел за одну поездку\", xlabel = 'Расстояние', ylabel= 'количество людей', grid = True)\n",
    "plt.show()"
   ]
  },
  {
   "cell_type": "markdown",
   "id": "26448f6d",
   "metadata": {},
   "source": [
    "От 2.9 км до 3.5  км самое частое расстояние. Редко встречаются преодоленные расстояния свыше 6 км. Виден еще набольшой пик на ~600м и затем снижение, воможно это связано с тарифами на поездки, например, первые 6 минут дешевле, поэтому все стараются в них уложиться и проезжают 600м. Либо это самое расспространенное расстояние от парковки самокатов у метро до мест работы многих пользователей."
   ]
  },
  {
   "cell_type": "code",
   "execution_count": 139,
   "id": "12336a75",
   "metadata": {},
   "outputs": [
    {
     "data": {
      "image/png": "[encoded data removed]",
      "text/plain": [
       "<Figure size 432x288 with 1 Axes>"
      ]
     },
     "metadata": {
      "needs_background": "light"
     },
     "output_type": "display_data"
    }
   ],
   "source": [
    "datarides['duration'].plot(kind='hist', bins = 50, title=\"Продолжительность Поездок\", xlabel = 'Продолжительность Поездок', ylabel= 'количество людей', grid = True)\n",
    "plt.show()"
   ]
  },
  {
   "cell_type": "markdown",
   "id": "3fce9bb5",
   "metadata": {},
   "source": [
    "Чаще всего поездки от 16 до 21 минуты. Редко от 35 до 40 минут. Видно, что есть пик на графике на уровне ~1 минуты. Вероятно, это связано со сбоем геолокации."
   ]
  },
  {
   "cell_type": "code",
   "execution_count": 140,
   "id": "586699e2",
   "metadata": {},
   "outputs": [
    {
     "data": {
      "image/png": "[encoded data removed]",
      "text/plain": [
       "<Figure size 432x288 with 1 Axes>"
      ]
     },
     "metadata": {
      "needs_background": "light"
     },
     "output_type": "display_data"
    }
   ],
   "source": [
    "datarides[datarides['duration'] < 2].plot(x='distance', y='duration', kind='scatter', title = 'расстояние и время поездок для людей')\n",
    "plt.show()"
   ]
  },
  {
   "cell_type": "markdown",
   "id": "f0a6a826",
   "metadata": {},
   "source": [
    "Вряд ли кто-то мог ехать со скоростью ~250км/ч, так что это больше похоже на аномалию: сбой времени при логировании или геолокации."
   ]
  },
  {
   "cell_type": "markdown",
   "id": "6cdbc7ac",
   "metadata": {},
   "source": [
    "Вывод.\n",
    "\n",
    "Чаще всего пользователи встречаются из Пятигорска (более 200 человек),без подписки, возраст от 24 до 28, проезжают от 2.9 км до 3.5 км за 16-21 минуту. Реже всего пользователи встречаются из Москвы с подпиской в возрасте от 35 до 40, с преодоленным расстоянием свыше 6 км, со временем использования 35-40 минут."
   ]
  },
  {
   "cell_type": "markdown",
   "id": "c79f6e8a",
   "metadata": {},
   "source": [
    "#### Шаг 4. Объединение данных"
   ]
  },
  {
   "cell_type": "markdown",
   "id": "8742b5c7",
   "metadata": {},
   "source": [
    "4.1 Объединим данные о пользователях, поездках и подписках в один датафрейм. Для этого воспользуйемся методом merge().\n",
    "\n",
    "Используем метод inner, так как нас интересуют только пользователи, которые совершали поездки, и есть данные о пользователях, где указаны имя ,подписка и т.д. Этот метод отбрасывает строки с нулевыми значениями."
   ]
  },
  {
   "cell_type": "code",
   "execution_count": 141,
   "id": "ecc7b98d",
   "metadata": {
    "scrolled": true
   },
   "outputs": [
    {
     "data": {
      "text/html": [
       "<div>\n",
       "<style scoped>\n",
       "    .dataframe tbody tr th:only-of-type {\n",
       "        vertical-align: middle;\n",
       "    }\n",
       "\n",
       "    .dataframe tbody tr th {\n",
       "        vertical-align: top;\n",
       "    }\n",
       "\n",
       "    .dataframe thead th {\n",
       "        text-align: right;\n",
       "    }\n",
       "</style>\n",
       "<table border=\"1\" class=\"dataframe\">\n",
       "  <thead>\n",
       "    <tr style=\"text-align: right;\">\n",
       "      <th></th>\n",
       "      <th>user_id</th>\n",
       "      <th>name</th>\n",
       "      <th>age</th>\n",
       "      <th>city</th>\n",
       "      <th>subscription_type</th>\n",
       "      <th>distance</th>\n",
       "      <th>duration</th>\n",
       "      <th>date</th>\n",
       "      <th>datemonth</th>\n",
       "    </tr>\n",
       "  </thead>\n",
       "  <tbody>\n",
       "    <tr>\n",
       "      <th>0</th>\n",
       "      <td>1</td>\n",
       "      <td>Кира</td>\n",
       "      <td>22</td>\n",
       "      <td>Тюмень</td>\n",
       "      <td>ultra</td>\n",
       "      <td>4409.919140</td>\n",
       "      <td>25.599769</td>\n",
       "      <td>2021-01-01</td>\n",
       "      <td>1</td>\n",
       "    </tr>\n",
       "    <tr>\n",
       "      <th>1</th>\n",
       "      <td>1</td>\n",
       "      <td>Кира</td>\n",
       "      <td>22</td>\n",
       "      <td>Тюмень</td>\n",
       "      <td>ultra</td>\n",
       "      <td>2617.592153</td>\n",
       "      <td>15.816871</td>\n",
       "      <td>2021-01-18</td>\n",
       "      <td>1</td>\n",
       "    </tr>\n",
       "    <tr>\n",
       "      <th>2</th>\n",
       "      <td>1</td>\n",
       "      <td>Кира</td>\n",
       "      <td>22</td>\n",
       "      <td>Тюмень</td>\n",
       "      <td>ultra</td>\n",
       "      <td>754.159807</td>\n",
       "      <td>6.232113</td>\n",
       "      <td>2021-04-20</td>\n",
       "      <td>4</td>\n",
       "    </tr>\n",
       "    <tr>\n",
       "      <th>3</th>\n",
       "      <td>1</td>\n",
       "      <td>Кира</td>\n",
       "      <td>22</td>\n",
       "      <td>Тюмень</td>\n",
       "      <td>ultra</td>\n",
       "      <td>2694.783254</td>\n",
       "      <td>18.511000</td>\n",
       "      <td>2021-08-11</td>\n",
       "      <td>8</td>\n",
       "    </tr>\n",
       "    <tr>\n",
       "      <th>4</th>\n",
       "      <td>1</td>\n",
       "      <td>Кира</td>\n",
       "      <td>22</td>\n",
       "      <td>Тюмень</td>\n",
       "      <td>ultra</td>\n",
       "      <td>4028.687306</td>\n",
       "      <td>26.265803</td>\n",
       "      <td>2021-08-28</td>\n",
       "      <td>8</td>\n",
       "    </tr>\n",
       "    <tr>\n",
       "      <th>...</th>\n",
       "      <td>...</td>\n",
       "      <td>...</td>\n",
       "      <td>...</td>\n",
       "      <td>...</td>\n",
       "      <td>...</td>\n",
       "      <td>...</td>\n",
       "      <td>...</td>\n",
       "      <td>...</td>\n",
       "      <td>...</td>\n",
       "    </tr>\n",
       "    <tr>\n",
       "      <th>18063</th>\n",
       "      <td>1534</td>\n",
       "      <td>Альберт</td>\n",
       "      <td>25</td>\n",
       "      <td>Краснодар</td>\n",
       "      <td>free</td>\n",
       "      <td>3781.098080</td>\n",
       "      <td>19.822962</td>\n",
       "      <td>2021-11-04</td>\n",
       "      <td>11</td>\n",
       "    </tr>\n",
       "    <tr>\n",
       "      <th>18064</th>\n",
       "      <td>1534</td>\n",
       "      <td>Альберт</td>\n",
       "      <td>25</td>\n",
       "      <td>Краснодар</td>\n",
       "      <td>free</td>\n",
       "      <td>2840.423057</td>\n",
       "      <td>21.409799</td>\n",
       "      <td>2021-11-16</td>\n",
       "      <td>11</td>\n",
       "    </tr>\n",
       "    <tr>\n",
       "      <th>18065</th>\n",
       "      <td>1534</td>\n",
       "      <td>Альберт</td>\n",
       "      <td>25</td>\n",
       "      <td>Краснодар</td>\n",
       "      <td>free</td>\n",
       "      <td>3826.185507</td>\n",
       "      <td>18.435051</td>\n",
       "      <td>2021-11-18</td>\n",
       "      <td>11</td>\n",
       "    </tr>\n",
       "    <tr>\n",
       "      <th>18066</th>\n",
       "      <td>1534</td>\n",
       "      <td>Альберт</td>\n",
       "      <td>25</td>\n",
       "      <td>Краснодар</td>\n",
       "      <td>free</td>\n",
       "      <td>2902.308661</td>\n",
       "      <td>16.674362</td>\n",
       "      <td>2021-11-27</td>\n",
       "      <td>11</td>\n",
       "    </tr>\n",
       "    <tr>\n",
       "      <th>18067</th>\n",
       "      <td>1534</td>\n",
       "      <td>Альберт</td>\n",
       "      <td>25</td>\n",
       "      <td>Краснодар</td>\n",
       "      <td>free</td>\n",
       "      <td>2371.711192</td>\n",
       "      <td>15.893917</td>\n",
       "      <td>2021-12-29</td>\n",
       "      <td>12</td>\n",
       "    </tr>\n",
       "  </tbody>\n",
       "</table>\n",
       "<p>18068 rows × 9 columns</p>\n",
       "</div>"
      ],
      "text/plain": [
       "       user_id     name  age       city subscription_type     distance  \\\n",
       "0            1     Кира   22     Тюмень             ultra  4409.919140   \n",
       "1            1     Кира   22     Тюмень             ultra  2617.592153   \n",
       "2            1     Кира   22     Тюмень             ultra   754.159807   \n",
       "3            1     Кира   22     Тюмень             ultra  2694.783254   \n",
       "4            1     Кира   22     Тюмень             ultra  4028.687306   \n",
       "...        ...      ...  ...        ...               ...          ...   \n",
       "18063     1534  Альберт   25  Краснодар              free  3781.098080   \n",
       "18064     1534  Альберт   25  Краснодар              free  2840.423057   \n",
       "18065     1534  Альберт   25  Краснодар              free  3826.185507   \n",
       "18066     1534  Альберт   25  Краснодар              free  2902.308661   \n",
       "18067     1534  Альберт   25  Краснодар              free  2371.711192   \n",
       "\n",
       "        duration       date  datemonth  \n",
       "0      25.599769 2021-01-01          1  \n",
       "1      15.816871 2021-01-18          1  \n",
       "2       6.232113 2021-04-20          4  \n",
       "3      18.511000 2021-08-11          8  \n",
       "4      26.265803 2021-08-28          8  \n",
       "...          ...        ...        ...  \n",
       "18063  19.822962 2021-11-04         11  \n",
       "18064  21.409799 2021-11-16         11  \n",
       "18065  18.435051 2021-11-18         11  \n",
       "18066  16.674362 2021-11-27         11  \n",
       "18067  15.893917 2021-12-29         12  \n",
       "\n",
       "[18068 rows x 9 columns]"
      ]
     },
     "execution_count": 141,
     "metadata": {},
     "output_type": "execute_result"
    }
   ],
   "source": [
    "data=datausers.merge(datarides, on = 'user_id', how = 'inner')\n",
    "data"
   ]
  },
  {
   "cell_type": "markdown",
   "id": "7785b3cf",
   "metadata": {},
   "source": [
    "Получилось 18068 строк, как и в таблице datarides, следовательно мы ни одни данные не отбросили. Проверим таблицу на наличие пропусков."
   ]
  },
  {
   "cell_type": "code",
   "execution_count": 142,
   "id": "d856035d",
   "metadata": {},
   "outputs": [
    {
     "data": {
      "text/plain": [
       "user_id              0\n",
       "name                 0\n",
       "age                  0\n",
       "city                 0\n",
       "subscription_type    0\n",
       "distance             0\n",
       "duration             0\n",
       "date                 0\n",
       "datemonth            0\n",
       "dtype: int64"
      ]
     },
     "execution_count": 142,
     "metadata": {},
     "output_type": "execute_result"
    }
   ],
   "source": [
    "data.isna().sum()"
   ]
  },
  {
   "cell_type": "markdown",
   "id": "175b18a8",
   "metadata": {},
   "source": [
    "Пропусков нет."
   ]
  },
  {
   "cell_type": "markdown",
   "id": "7dd81477",
   "metadata": {},
   "source": [
    "4.2 Создадим ещё два датафрейма из датафрейма, созданного на этапе 4.1:\n",
    "\n",
    "    c данными о пользователях без подписки;\n",
    "    с данными о пользователях с подпиской.\n",
    "    "
   ]
  },
  {
   "cell_type": "code",
   "execution_count": 143,
   "id": "55af9e34",
   "metadata": {
    "scrolled": true
   },
   "outputs": [
    {
     "data": {
      "text/html": [
       "<div>\n",
       "<style scoped>\n",
       "    .dataframe tbody tr th:only-of-type {\n",
       "        vertical-align: middle;\n",
       "    }\n",
       "\n",
       "    .dataframe tbody tr th {\n",
       "        vertical-align: top;\n",
       "    }\n",
       "\n",
       "    .dataframe thead th {\n",
       "        text-align: right;\n",
       "    }\n",
       "</style>\n",
       "<table border=\"1\" class=\"dataframe\">\n",
       "  <thead>\n",
       "    <tr style=\"text-align: right;\">\n",
       "      <th></th>\n",
       "      <th>user_id</th>\n",
       "      <th>name</th>\n",
       "      <th>age</th>\n",
       "      <th>city</th>\n",
       "      <th>subscription_type</th>\n",
       "      <th>distance</th>\n",
       "      <th>duration</th>\n",
       "      <th>date</th>\n",
       "      <th>datemonth</th>\n",
       "    </tr>\n",
       "  </thead>\n",
       "  <tbody>\n",
       "    <tr>\n",
       "      <th>0</th>\n",
       "      <td>1</td>\n",
       "      <td>Кира</td>\n",
       "      <td>22</td>\n",
       "      <td>Тюмень</td>\n",
       "      <td>ultra</td>\n",
       "      <td>4409.919140</td>\n",
       "      <td>25.599769</td>\n",
       "      <td>2021-01-01</td>\n",
       "      <td>1</td>\n",
       "    </tr>\n",
       "    <tr>\n",
       "      <th>1</th>\n",
       "      <td>1</td>\n",
       "      <td>Кира</td>\n",
       "      <td>22</td>\n",
       "      <td>Тюмень</td>\n",
       "      <td>ultra</td>\n",
       "      <td>2617.592153</td>\n",
       "      <td>15.816871</td>\n",
       "      <td>2021-01-18</td>\n",
       "      <td>1</td>\n",
       "    </tr>\n",
       "    <tr>\n",
       "      <th>2</th>\n",
       "      <td>1</td>\n",
       "      <td>Кира</td>\n",
       "      <td>22</td>\n",
       "      <td>Тюмень</td>\n",
       "      <td>ultra</td>\n",
       "      <td>754.159807</td>\n",
       "      <td>6.232113</td>\n",
       "      <td>2021-04-20</td>\n",
       "      <td>4</td>\n",
       "    </tr>\n",
       "    <tr>\n",
       "      <th>3</th>\n",
       "      <td>1</td>\n",
       "      <td>Кира</td>\n",
       "      <td>22</td>\n",
       "      <td>Тюмень</td>\n",
       "      <td>ultra</td>\n",
       "      <td>2694.783254</td>\n",
       "      <td>18.511000</td>\n",
       "      <td>2021-08-11</td>\n",
       "      <td>8</td>\n",
       "    </tr>\n",
       "    <tr>\n",
       "      <th>4</th>\n",
       "      <td>1</td>\n",
       "      <td>Кира</td>\n",
       "      <td>22</td>\n",
       "      <td>Тюмень</td>\n",
       "      <td>ultra</td>\n",
       "      <td>4028.687306</td>\n",
       "      <td>26.265803</td>\n",
       "      <td>2021-08-28</td>\n",
       "      <td>8</td>\n",
       "    </tr>\n",
       "    <tr>\n",
       "      <th>...</th>\n",
       "      <td>...</td>\n",
       "      <td>...</td>\n",
       "      <td>...</td>\n",
       "      <td>...</td>\n",
       "      <td>...</td>\n",
       "      <td>...</td>\n",
       "      <td>...</td>\n",
       "      <td>...</td>\n",
       "      <td>...</td>\n",
       "    </tr>\n",
       "    <tr>\n",
       "      <th>6495</th>\n",
       "      <td>699</td>\n",
       "      <td>Оксана</td>\n",
       "      <td>22</td>\n",
       "      <td>Москва</td>\n",
       "      <td>ultra</td>\n",
       "      <td>3973.046497</td>\n",
       "      <td>24.671163</td>\n",
       "      <td>2021-08-29</td>\n",
       "      <td>8</td>\n",
       "    </tr>\n",
       "    <tr>\n",
       "      <th>6496</th>\n",
       "      <td>699</td>\n",
       "      <td>Оксана</td>\n",
       "      <td>22</td>\n",
       "      <td>Москва</td>\n",
       "      <td>ultra</td>\n",
       "      <td>3288.702563</td>\n",
       "      <td>15.892886</td>\n",
       "      <td>2021-09-12</td>\n",
       "      <td>9</td>\n",
       "    </tr>\n",
       "    <tr>\n",
       "      <th>6497</th>\n",
       "      <td>699</td>\n",
       "      <td>Оксана</td>\n",
       "      <td>22</td>\n",
       "      <td>Москва</td>\n",
       "      <td>ultra</td>\n",
       "      <td>3076.159348</td>\n",
       "      <td>14.389525</td>\n",
       "      <td>2021-09-26</td>\n",
       "      <td>9</td>\n",
       "    </tr>\n",
       "    <tr>\n",
       "      <th>6498</th>\n",
       "      <td>699</td>\n",
       "      <td>Оксана</td>\n",
       "      <td>22</td>\n",
       "      <td>Москва</td>\n",
       "      <td>ultra</td>\n",
       "      <td>4707.845501</td>\n",
       "      <td>15.839579</td>\n",
       "      <td>2021-10-17</td>\n",
       "      <td>10</td>\n",
       "    </tr>\n",
       "    <tr>\n",
       "      <th>6499</th>\n",
       "      <td>699</td>\n",
       "      <td>Оксана</td>\n",
       "      <td>22</td>\n",
       "      <td>Москва</td>\n",
       "      <td>ultra</td>\n",
       "      <td>3202.890770</td>\n",
       "      <td>25.217345</td>\n",
       "      <td>2021-12-03</td>\n",
       "      <td>12</td>\n",
       "    </tr>\n",
       "  </tbody>\n",
       "</table>\n",
       "<p>6500 rows × 9 columns</p>\n",
       "</div>"
      ],
      "text/plain": [
       "      user_id    name  age    city subscription_type     distance   duration  \\\n",
       "0           1    Кира   22  Тюмень             ultra  4409.919140  25.599769   \n",
       "1           1    Кира   22  Тюмень             ultra  2617.592153  15.816871   \n",
       "2           1    Кира   22  Тюмень             ultra   754.159807   6.232113   \n",
       "3           1    Кира   22  Тюмень             ultra  2694.783254  18.511000   \n",
       "4           1    Кира   22  Тюмень             ultra  4028.687306  26.265803   \n",
       "...       ...     ...  ...     ...               ...          ...        ...   \n",
       "6495      699  Оксана   22  Москва             ultra  3973.046497  24.671163   \n",
       "6496      699  Оксана   22  Москва             ultra  3288.702563  15.892886   \n",
       "6497      699  Оксана   22  Москва             ultra  3076.159348  14.389525   \n",
       "6498      699  Оксана   22  Москва             ultra  4707.845501  15.839579   \n",
       "6499      699  Оксана   22  Москва             ultra  3202.890770  25.217345   \n",
       "\n",
       "           date  datemonth  \n",
       "0    2021-01-01          1  \n",
       "1    2021-01-18          1  \n",
       "2    2021-04-20          4  \n",
       "3    2021-08-11          8  \n",
       "4    2021-08-28          8  \n",
       "...         ...        ...  \n",
       "6495 2021-08-29          8  \n",
       "6496 2021-09-12          9  \n",
       "6497 2021-09-26          9  \n",
       "6498 2021-10-17         10  \n",
       "6499 2021-12-03         12  \n",
       "\n",
       "[6500 rows x 9 columns]"
      ]
     },
     "execution_count": 143,
     "metadata": {},
     "output_type": "execute_result"
    }
   ],
   "source": [
    "dataultra = data[data['subscription_type']=='ultra']\n",
    "dataultra"
   ]
  },
  {
   "cell_type": "code",
   "execution_count": 144,
   "id": "2c0575fe",
   "metadata": {
    "scrolled": true
   },
   "outputs": [
    {
     "data": {
      "text/html": [
       "<div>\n",
       "<style scoped>\n",
       "    .dataframe tbody tr th:only-of-type {\n",
       "        vertical-align: middle;\n",
       "    }\n",
       "\n",
       "    .dataframe tbody tr th {\n",
       "        vertical-align: top;\n",
       "    }\n",
       "\n",
       "    .dataframe thead th {\n",
       "        text-align: right;\n",
       "    }\n",
       "</style>\n",
       "<table border=\"1\" class=\"dataframe\">\n",
       "  <thead>\n",
       "    <tr style=\"text-align: right;\">\n",
       "      <th></th>\n",
       "      <th>user_id</th>\n",
       "      <th>name</th>\n",
       "      <th>age</th>\n",
       "      <th>city</th>\n",
       "      <th>subscription_type</th>\n",
       "      <th>distance</th>\n",
       "      <th>duration</th>\n",
       "      <th>date</th>\n",
       "      <th>datemonth</th>\n",
       "    </tr>\n",
       "  </thead>\n",
       "  <tbody>\n",
       "    <tr>\n",
       "      <th>6500</th>\n",
       "      <td>700</td>\n",
       "      <td>Айдар</td>\n",
       "      <td>22</td>\n",
       "      <td>Омск</td>\n",
       "      <td>free</td>\n",
       "      <td>2515.690719</td>\n",
       "      <td>14.944286</td>\n",
       "      <td>2021-01-02</td>\n",
       "      <td>1</td>\n",
       "    </tr>\n",
       "    <tr>\n",
       "      <th>6501</th>\n",
       "      <td>700</td>\n",
       "      <td>Айдар</td>\n",
       "      <td>22</td>\n",
       "      <td>Омск</td>\n",
       "      <td>free</td>\n",
       "      <td>846.932642</td>\n",
       "      <td>16.234663</td>\n",
       "      <td>2021-02-01</td>\n",
       "      <td>2</td>\n",
       "    </tr>\n",
       "    <tr>\n",
       "      <th>6502</th>\n",
       "      <td>700</td>\n",
       "      <td>Айдар</td>\n",
       "      <td>22</td>\n",
       "      <td>Омск</td>\n",
       "      <td>free</td>\n",
       "      <td>4004.434142</td>\n",
       "      <td>20.016628</td>\n",
       "      <td>2021-02-04</td>\n",
       "      <td>2</td>\n",
       "    </tr>\n",
       "    <tr>\n",
       "      <th>6503</th>\n",
       "      <td>700</td>\n",
       "      <td>Айдар</td>\n",
       "      <td>22</td>\n",
       "      <td>Омск</td>\n",
       "      <td>free</td>\n",
       "      <td>1205.911290</td>\n",
       "      <td>9.782872</td>\n",
       "      <td>2021-02-10</td>\n",
       "      <td>2</td>\n",
       "    </tr>\n",
       "    <tr>\n",
       "      <th>6504</th>\n",
       "      <td>700</td>\n",
       "      <td>Айдар</td>\n",
       "      <td>22</td>\n",
       "      <td>Омск</td>\n",
       "      <td>free</td>\n",
       "      <td>3047.379435</td>\n",
       "      <td>17.427673</td>\n",
       "      <td>2021-02-14</td>\n",
       "      <td>2</td>\n",
       "    </tr>\n",
       "    <tr>\n",
       "      <th>...</th>\n",
       "      <td>...</td>\n",
       "      <td>...</td>\n",
       "      <td>...</td>\n",
       "      <td>...</td>\n",
       "      <td>...</td>\n",
       "      <td>...</td>\n",
       "      <td>...</td>\n",
       "      <td>...</td>\n",
       "      <td>...</td>\n",
       "    </tr>\n",
       "    <tr>\n",
       "      <th>18063</th>\n",
       "      <td>1534</td>\n",
       "      <td>Альберт</td>\n",
       "      <td>25</td>\n",
       "      <td>Краснодар</td>\n",
       "      <td>free</td>\n",
       "      <td>3781.098080</td>\n",
       "      <td>19.822962</td>\n",
       "      <td>2021-11-04</td>\n",
       "      <td>11</td>\n",
       "    </tr>\n",
       "    <tr>\n",
       "      <th>18064</th>\n",
       "      <td>1534</td>\n",
       "      <td>Альберт</td>\n",
       "      <td>25</td>\n",
       "      <td>Краснодар</td>\n",
       "      <td>free</td>\n",
       "      <td>2840.423057</td>\n",
       "      <td>21.409799</td>\n",
       "      <td>2021-11-16</td>\n",
       "      <td>11</td>\n",
       "    </tr>\n",
       "    <tr>\n",
       "      <th>18065</th>\n",
       "      <td>1534</td>\n",
       "      <td>Альберт</td>\n",
       "      <td>25</td>\n",
       "      <td>Краснодар</td>\n",
       "      <td>free</td>\n",
       "      <td>3826.185507</td>\n",
       "      <td>18.435051</td>\n",
       "      <td>2021-11-18</td>\n",
       "      <td>11</td>\n",
       "    </tr>\n",
       "    <tr>\n",
       "      <th>18066</th>\n",
       "      <td>1534</td>\n",
       "      <td>Альберт</td>\n",
       "      <td>25</td>\n",
       "      <td>Краснодар</td>\n",
       "      <td>free</td>\n",
       "      <td>2902.308661</td>\n",
       "      <td>16.674362</td>\n",
       "      <td>2021-11-27</td>\n",
       "      <td>11</td>\n",
       "    </tr>\n",
       "    <tr>\n",
       "      <th>18067</th>\n",
       "      <td>1534</td>\n",
       "      <td>Альберт</td>\n",
       "      <td>25</td>\n",
       "      <td>Краснодар</td>\n",
       "      <td>free</td>\n",
       "      <td>2371.711192</td>\n",
       "      <td>15.893917</td>\n",
       "      <td>2021-12-29</td>\n",
       "      <td>12</td>\n",
       "    </tr>\n",
       "  </tbody>\n",
       "</table>\n",
       "<p>11568 rows × 9 columns</p>\n",
       "</div>"
      ],
      "text/plain": [
       "       user_id     name  age       city subscription_type     distance  \\\n",
       "6500       700    Айдар   22       Омск              free  2515.690719   \n",
       "6501       700    Айдар   22       Омск              free   846.932642   \n",
       "6502       700    Айдар   22       Омск              free  4004.434142   \n",
       "6503       700    Айдар   22       Омск              free  1205.911290   \n",
       "6504       700    Айдар   22       Омск              free  3047.379435   \n",
       "...        ...      ...  ...        ...               ...          ...   \n",
       "18063     1534  Альберт   25  Краснодар              free  3781.098080   \n",
       "18064     1534  Альберт   25  Краснодар              free  2840.423057   \n",
       "18065     1534  Альберт   25  Краснодар              free  3826.185507   \n",
       "18066     1534  Альберт   25  Краснодар              free  2902.308661   \n",
       "18067     1534  Альберт   25  Краснодар              free  2371.711192   \n",
       "\n",
       "        duration       date  datemonth  \n",
       "6500   14.944286 2021-01-02          1  \n",
       "6501   16.234663 2021-02-01          2  \n",
       "6502   20.016628 2021-02-04          2  \n",
       "6503    9.782872 2021-02-10          2  \n",
       "6504   17.427673 2021-02-14          2  \n",
       "...          ...        ...        ...  \n",
       "18063  19.822962 2021-11-04         11  \n",
       "18064  21.409799 2021-11-16         11  \n",
       "18065  18.435051 2021-11-18         11  \n",
       "18066  16.674362 2021-11-27         11  \n",
       "18067  15.893917 2021-12-29         12  \n",
       "\n",
       "[11568 rows x 9 columns]"
      ]
     },
     "execution_count": 144,
     "metadata": {},
     "output_type": "execute_result"
    }
   ],
   "source": [
    "datafree = data[data['subscription_type']=='free']\n",
    "datafree"
   ]
  },
  {
   "cell_type": "markdown",
   "id": "4d423d2c",
   "metadata": {},
   "source": [
    "Поездок без подписки 11 568, поездок с подпиской 6 500."
   ]
  },
  {
   "cell_type": "markdown",
   "id": "8679fc48",
   "metadata": {},
   "source": [
    "4.3 Визуализируем информацию о расстоянии и времени поездок для пользователей обеих категорий."
   ]
  },
  {
   "cell_type": "code",
   "execution_count": 145,
   "id": "cfdce372",
   "metadata": {},
   "outputs": [
    {
     "data": {
      "image/png": "[encoded data removed]",
      "text/plain": [
       "<Figure size 432x288 with 1 Axes>"
      ]
     },
     "metadata": {
      "needs_background": "light"
     },
     "output_type": "display_data"
    }
   ],
   "source": [
    "dataultra['distance'].plot(kind='hist', bins = 10, title=\"расстояния для людей с подпиской\", xlabel = 'Расстояние', ylabel= 'количество людей', grid = True)\n",
    "plt.show()"
   ]
  },
  {
   "cell_type": "markdown",
   "id": "969c6892",
   "metadata": {},
   "source": [
    "Люди с подпиской чаще всего преодолеват 3-3,5 км. за поездку."
   ]
  },
  {
   "cell_type": "code",
   "execution_count": 146,
   "id": "493d1c5b",
   "metadata": {},
   "outputs": [
    {
     "data": {
      "image/png": "[encoded data removed]",
      "text/plain": [
       "<Figure size 432x288 with 1 Axes>"
      ]
     },
     "metadata": {
      "needs_background": "light"
     },
     "output_type": "display_data"
    }
   ],
   "source": [
    "dataultra['duration'].plot(kind='hist', bins = 10, title=\"время у людей с подпиской\", xlabel = 'время', ylabel= 'количество людей', grid = True)\n",
    "plt.show()"
   ]
  },
  {
   "cell_type": "markdown",
   "id": "197d2c82",
   "metadata": {},
   "source": [
    "Люди сподпиской чаще всего ездят по 15-20минут."
   ]
  },
  {
   "cell_type": "code",
   "execution_count": 147,
   "id": "b9c11540",
   "metadata": {},
   "outputs": [
    {
     "data": {
      "image/png": "[encoded data removed]",
      "text/plain": [
       "<Figure size 432x288 with 1 Axes>"
      ]
     },
     "metadata": {
      "needs_background": "light"
     },
     "output_type": "display_data"
    }
   ],
   "source": [
    "datafree['distance'].plot(kind='hist', bins = 10, title=\"расстояния для людей без подпиской\", xlabel = 'расстояние', ylabel= 'количество людей', grid = True)\n",
    "plt.show()"
   ]
  },
  {
   "cell_type": "markdown",
   "id": "8f45be11",
   "metadata": {},
   "source": [
    "Люди без подписки чаще всего ездят 2,1-3,5км.Так же мы видим выброс, увеличенный от 0 до 0,5км - скорей всего это сбой геолокации."
   ]
  },
  {
   "cell_type": "code",
   "execution_count": 148,
   "id": "13d590eb",
   "metadata": {},
   "outputs": [
    {
     "data": {
      "image/png": "[encoded data removed]",
      "text/plain": [
       "<Figure size 432x288 with 1 Axes>"
      ]
     },
     "metadata": {
      "needs_background": "light"
     },
     "output_type": "display_data"
    }
   ],
   "source": [
    "datafree['duration'].plot(kind='hist', bins = 10, title=\"время у людей без подпиской\", xlabel = 'время', ylabel= 'количество людей', grid = True)\n",
    "plt.show()"
   ]
  },
  {
   "cell_type": "markdown",
   "id": "77228d30",
   "metadata": {},
   "source": [
    "Время у людей без подписки чаще всего тратится 14-22 минуты."
   ]
  },
  {
   "cell_type": "markdown",
   "id": "9e74fa3d",
   "metadata": {},
   "source": [
    "Вывод.\n",
    "\n",
    "Поездок без подписок больше их 11 568, они проезжают расстояния  2,1-3,5км.,время тратят 14-22 минуты.\n",
    "\n",
    "Поездок с подпиской меньше 6 500, расстояния 3-3,5 км., время 15-20 минут.\n",
    "\n",
    "На первы взшляд, один человек с подпиской, больше приносит прибыли компании,чем без подписки. Но так как людей без подписок больше, то нельзя однозначно утверждать,  какакя категория суммарно приносит больше денег компании."
   ]
  },
  {
   "cell_type": "markdown",
   "id": "e1c02062",
   "metadata": {},
   "source": [
    "#### Шаг 5. Подсчёт выручки"
   ]
  },
  {
   "cell_type": "markdown",
   "id": "76b72d37",
   "metadata": {},
   "source": [
    "5.1 Создадим датафрейм с агрегированными данными о поездках на основе датафрейма с объединёнными данными из шага 4: найдем суммарное расстояние, количество поездок и суммарное время для каждого пользователя за каждый месяц."
   ]
  },
  {
   "cell_type": "code",
   "execution_count": 149,
   "id": "e4880880",
   "metadata": {},
   "outputs": [
    {
     "data": {
      "text/html": [
       "<div>\n",
       "<style scoped>\n",
       "    .dataframe tbody tr th:only-of-type {\n",
       "        vertical-align: middle;\n",
       "    }\n",
       "\n",
       "    .dataframe tbody tr th {\n",
       "        vertical-align: top;\n",
       "    }\n",
       "\n",
       "    .dataframe thead th {\n",
       "        text-align: right;\n",
       "    }\n",
       "</style>\n",
       "<table border=\"1\" class=\"dataframe\">\n",
       "  <thead>\n",
       "    <tr style=\"text-align: right;\">\n",
       "      <th></th>\n",
       "      <th>user_id</th>\n",
       "      <th>datemonth</th>\n",
       "      <th>distance</th>\n",
       "      <th>duration_count</th>\n",
       "      <th>duration</th>\n",
       "    </tr>\n",
       "  </thead>\n",
       "  <tbody>\n",
       "    <tr>\n",
       "      <th>0</th>\n",
       "      <td>1</td>\n",
       "      <td>1</td>\n",
       "      <td>7027.51</td>\n",
       "      <td>2</td>\n",
       "      <td>42.0</td>\n",
       "    </tr>\n",
       "    <tr>\n",
       "      <th>1</th>\n",
       "      <td>1</td>\n",
       "      <td>4</td>\n",
       "      <td>754.16</td>\n",
       "      <td>1</td>\n",
       "      <td>7.0</td>\n",
       "    </tr>\n",
       "    <tr>\n",
       "      <th>2</th>\n",
       "      <td>1</td>\n",
       "      <td>8</td>\n",
       "      <td>6723.47</td>\n",
       "      <td>2</td>\n",
       "      <td>45.0</td>\n",
       "    </tr>\n",
       "    <tr>\n",
       "      <th>3</th>\n",
       "      <td>1</td>\n",
       "      <td>10</td>\n",
       "      <td>5809.91</td>\n",
       "      <td>2</td>\n",
       "      <td>32.0</td>\n",
       "    </tr>\n",
       "    <tr>\n",
       "      <th>4</th>\n",
       "      <td>1</td>\n",
       "      <td>11</td>\n",
       "      <td>7003.50</td>\n",
       "      <td>3</td>\n",
       "      <td>54.0</td>\n",
       "    </tr>\n",
       "    <tr>\n",
       "      <th>...</th>\n",
       "      <td>...</td>\n",
       "      <td>...</td>\n",
       "      <td>...</td>\n",
       "      <td>...</td>\n",
       "      <td>...</td>\n",
       "    </tr>\n",
       "    <tr>\n",
       "      <th>11326</th>\n",
       "      <td>1534</td>\n",
       "      <td>6</td>\n",
       "      <td>3409.47</td>\n",
       "      <td>2</td>\n",
       "      <td>25.0</td>\n",
       "    </tr>\n",
       "    <tr>\n",
       "      <th>11327</th>\n",
       "      <td>1534</td>\n",
       "      <td>8</td>\n",
       "      <td>7622.45</td>\n",
       "      <td>2</td>\n",
       "      <td>48.0</td>\n",
       "    </tr>\n",
       "    <tr>\n",
       "      <th>11328</th>\n",
       "      <td>1534</td>\n",
       "      <td>9</td>\n",
       "      <td>4928.17</td>\n",
       "      <td>1</td>\n",
       "      <td>23.0</td>\n",
       "    </tr>\n",
       "    <tr>\n",
       "      <th>11329</th>\n",
       "      <td>1534</td>\n",
       "      <td>11</td>\n",
       "      <td>13350.02</td>\n",
       "      <td>4</td>\n",
       "      <td>77.0</td>\n",
       "    </tr>\n",
       "    <tr>\n",
       "      <th>11330</th>\n",
       "      <td>1534</td>\n",
       "      <td>12</td>\n",
       "      <td>2371.71</td>\n",
       "      <td>1</td>\n",
       "      <td>16.0</td>\n",
       "    </tr>\n",
       "  </tbody>\n",
       "</table>\n",
       "<p>11331 rows × 5 columns</p>\n",
       "</div>"
      ],
      "text/plain": [
       "       user_id  datemonth  distance  duration_count  duration\n",
       "0            1          1   7027.51               2      42.0\n",
       "1            1          4    754.16               1       7.0\n",
       "2            1          8   6723.47               2      45.0\n",
       "3            1         10   5809.91               2      32.0\n",
       "4            1         11   7003.50               3      54.0\n",
       "...        ...        ...       ...             ...       ...\n",
       "11326     1534          6   3409.47               2      25.0\n",
       "11327     1534          8   7622.45               2      48.0\n",
       "11328     1534          9   4928.17               1      23.0\n",
       "11329     1534         11  13350.02               4      77.0\n",
       "11330     1534         12   2371.71               1      16.0\n",
       "\n",
       "[11331 rows x 5 columns]"
      ]
     },
     "execution_count": 149,
     "metadata": {},
     "output_type": "execute_result"
    }
   ],
   "source": [
    "data_revenue= pd.pivot_table(data, values=['distance', 'duration'],\n",
    "                             index=['user_id', 'datemonth'], \n",
    "                             aggfunc={'distance': \"sum\", 'duration': [\"sum\", \"count\"]}).reset_index()\n",
    "data_revenue.columns = ['user_id', 'datemonth', 'distance', 'duration_count', 'duration']\n",
    "data_revenue['duration'] = np.ceil(data_revenue['duration'])\n",
    "data_revenue['distance'] = data_revenue['distance'].round(2)\n",
    "data_revenue"
   ]
  },
  {
   "cell_type": "markdown",
   "id": "92d95605",
   "metadata": {},
   "source": [
    "5.2 В этот же датафрейм добавим столбец с помесячной выручкой, которую принёс каждый пользователь. Для этого обратимся к информации об условиях оплаты для подписчиков и тех, у кого нет подписки. Продолжительность каждой поездки в каждой строке исходного датафрейма для подсчёта стоимости округлим до следующего целого числа"
   ]
  },
  {
   "cell_type": "code",
   "execution_count": 150,
   "id": "d709bb66",
   "metadata": {},
   "outputs": [],
   "source": [
    "def method_revenue(data_revenue):\n",
    "    if data_revenue['user_id'] in datafree['user_id'].values:\n",
    "        return (data_revenue['duration_count'] * datasubscriptions.loc[0, 'start_ride_price'] \n",
    "                + data_revenue['duration']*datasubscriptions.loc[0, 'minute_price'] \n",
    "                + datasubscriptions.loc[0, 'subscription_fee'])\n",
    "    if data_revenue['user_id'] in dataultra['user_id'].values:\n",
    "        return (data_revenue['duration_count'] * datasubscriptions.loc[1, 'start_ride_price'] \n",
    "                + data_revenue['duration']*datasubscriptions.loc[1, 'minute_price'] \n",
    "                + datasubscriptions.loc[1, 'subscription_fee'])"
   ]
  },
  {
   "cell_type": "code",
   "execution_count": 151,
   "id": "2878429d",
   "metadata": {
    "scrolled": true
   },
   "outputs": [
    {
     "data": {
      "text/html": [
       "<div>\n",
       "<style scoped>\n",
       "    .dataframe tbody tr th:only-of-type {\n",
       "        vertical-align: middle;\n",
       "    }\n",
       "\n",
       "    .dataframe tbody tr th {\n",
       "        vertical-align: top;\n",
       "    }\n",
       "\n",
       "    .dataframe thead th {\n",
       "        text-align: right;\n",
       "    }\n",
       "</style>\n",
       "<table border=\"1\" class=\"dataframe\">\n",
       "  <thead>\n",
       "    <tr style=\"text-align: right;\">\n",
       "      <th></th>\n",
       "      <th>user_id</th>\n",
       "      <th>datemonth</th>\n",
       "      <th>distance</th>\n",
       "      <th>duration_count</th>\n",
       "      <th>duration</th>\n",
       "      <th>revenue</th>\n",
       "    </tr>\n",
       "  </thead>\n",
       "  <tbody>\n",
       "    <tr>\n",
       "      <th>0</th>\n",
       "      <td>1</td>\n",
       "      <td>1</td>\n",
       "      <td>7027.51</td>\n",
       "      <td>2</td>\n",
       "      <td>42.0</td>\n",
       "      <td>451.0</td>\n",
       "    </tr>\n",
       "    <tr>\n",
       "      <th>1</th>\n",
       "      <td>1</td>\n",
       "      <td>4</td>\n",
       "      <td>754.16</td>\n",
       "      <td>1</td>\n",
       "      <td>7.0</td>\n",
       "      <td>241.0</td>\n",
       "    </tr>\n",
       "    <tr>\n",
       "      <th>2</th>\n",
       "      <td>1</td>\n",
       "      <td>8</td>\n",
       "      <td>6723.47</td>\n",
       "      <td>2</td>\n",
       "      <td>45.0</td>\n",
       "      <td>469.0</td>\n",
       "    </tr>\n",
       "    <tr>\n",
       "      <th>3</th>\n",
       "      <td>1</td>\n",
       "      <td>10</td>\n",
       "      <td>5809.91</td>\n",
       "      <td>2</td>\n",
       "      <td>32.0</td>\n",
       "      <td>391.0</td>\n",
       "    </tr>\n",
       "    <tr>\n",
       "      <th>4</th>\n",
       "      <td>1</td>\n",
       "      <td>11</td>\n",
       "      <td>7003.50</td>\n",
       "      <td>3</td>\n",
       "      <td>54.0</td>\n",
       "      <td>523.0</td>\n",
       "    </tr>\n",
       "    <tr>\n",
       "      <th>...</th>\n",
       "      <td>...</td>\n",
       "      <td>...</td>\n",
       "      <td>...</td>\n",
       "      <td>...</td>\n",
       "      <td>...</td>\n",
       "      <td>...</td>\n",
       "    </tr>\n",
       "    <tr>\n",
       "      <th>11326</th>\n",
       "      <td>1534</td>\n",
       "      <td>6</td>\n",
       "      <td>3409.47</td>\n",
       "      <td>2</td>\n",
       "      <td>25.0</td>\n",
       "      <td>300.0</td>\n",
       "    </tr>\n",
       "    <tr>\n",
       "      <th>11327</th>\n",
       "      <td>1534</td>\n",
       "      <td>8</td>\n",
       "      <td>7622.45</td>\n",
       "      <td>2</td>\n",
       "      <td>48.0</td>\n",
       "      <td>484.0</td>\n",
       "    </tr>\n",
       "    <tr>\n",
       "      <th>11328</th>\n",
       "      <td>1534</td>\n",
       "      <td>9</td>\n",
       "      <td>4928.17</td>\n",
       "      <td>1</td>\n",
       "      <td>23.0</td>\n",
       "      <td>234.0</td>\n",
       "    </tr>\n",
       "    <tr>\n",
       "      <th>11329</th>\n",
       "      <td>1534</td>\n",
       "      <td>11</td>\n",
       "      <td>13350.02</td>\n",
       "      <td>4</td>\n",
       "      <td>77.0</td>\n",
       "      <td>816.0</td>\n",
       "    </tr>\n",
       "    <tr>\n",
       "      <th>11330</th>\n",
       "      <td>1534</td>\n",
       "      <td>12</td>\n",
       "      <td>2371.71</td>\n",
       "      <td>1</td>\n",
       "      <td>16.0</td>\n",
       "      <td>178.0</td>\n",
       "    </tr>\n",
       "  </tbody>\n",
       "</table>\n",
       "<p>11331 rows × 6 columns</p>\n",
       "</div>"
      ],
      "text/plain": [
       "       user_id  datemonth  distance  duration_count  duration  revenue\n",
       "0            1          1   7027.51               2      42.0    451.0\n",
       "1            1          4    754.16               1       7.0    241.0\n",
       "2            1          8   6723.47               2      45.0    469.0\n",
       "3            1         10   5809.91               2      32.0    391.0\n",
       "4            1         11   7003.50               3      54.0    523.0\n",
       "...        ...        ...       ...             ...       ...      ...\n",
       "11326     1534          6   3409.47               2      25.0    300.0\n",
       "11327     1534          8   7622.45               2      48.0    484.0\n",
       "11328     1534          9   4928.17               1      23.0    234.0\n",
       "11329     1534         11  13350.02               4      77.0    816.0\n",
       "11330     1534         12   2371.71               1      16.0    178.0\n",
       "\n",
       "[11331 rows x 6 columns]"
      ]
     },
     "execution_count": 151,
     "metadata": {},
     "output_type": "execute_result"
    }
   ],
   "source": [
    "data_revenue['revenue'] = data_revenue.apply(method_revenue, axis =1)\n",
    "data_revenue"
   ]
  },
  {
   "cell_type": "markdown",
   "id": "31fdc96a",
   "metadata": {},
   "source": [
    "Вывод: мы подготовили отличные данные, чтобы проверить гипотезы об увеличении выручки."
   ]
  },
  {
   "cell_type": "markdown",
   "id": "8cf34cee",
   "metadata": {},
   "source": [
    "#### Шаг 6. Проверка гипотез"
   ]
  },
  {
   "cell_type": "markdown",
   "id": "22ac2022",
   "metadata": {},
   "source": [
    "Продакт-менеджеры сервиса хотят увеличить количество пользователей с подпиской. Для этого они будут проводить различные акции, но сначала нужно выяснить несколько важных моментов.\n",
    "\n",
    "6.1 Важно понять, тратят ли пользователи с подпиской больше времени на поездки? Если да, то пользователи с подпиской могут быть «выгоднее» для компании. Проверим гипотезу. Используем исходные данные о продолжительности каждой сессии — отдельно для подписчиков и тех, у кого нет подписки."
   ]
  },
  {
   "cell_type": "markdown",
   "id": "6eb3ce56",
   "metadata": {},
   "source": [
    "Нулевая гипотеза: пользователи с подпиской тратят больше времени на поездки.\n",
    "\n",
    "Альернативная гипотеза: пользователи с подпиской не тратят больше времени на поездки."
   ]
  },
  {
   "cell_type": "code",
   "execution_count": 152,
   "id": "4aa96eb6",
   "metadata": {},
   "outputs": [
    {
     "name": "stdout",
     "output_type": "stream",
     "text": [
      "p-value: 5.675781377128977e-37\n",
      "Нет оснований отвергнуть нулевую гипотезу.Пользователи с подпиской тратят больше времени на поездки.\n"
     ]
    }
   ],
   "source": [
    "alpha = 0.05 # уровень статистической значимости\n",
    "\n",
    "\n",
    "results = st.ttest_ind(dataultra['duration'], datafree['duration'], alternative='greater', equal_var = False)\n",
    "\n",
    "print(f'p-value: {results.pvalue}')\n",
    "\n",
    "# проверяем p-value\n",
    "if results.pvalue > alpha:\n",
    "    print('Отвергаем нулевую гипотезу. Пользователи с подпиской не тратят больше времени на поездки.')\n",
    "else:\n",
    "    print('Нет оснований отвергнуть нулевую гипотезу.Пользователи с подпиской тратят больше времени на поездки.')"
   ]
  },
  {
   "cell_type": "markdown",
   "id": "5022d6c4",
   "metadata": {},
   "source": [
    "6.2 Расстояние одной поездки в 3130 метров — оптимальное с точки зрения износа самоката. Можно ли сказать, что расстояние, которое проезжают пользователи с подпиской за одну поездку, не превышает 3130 метров? Проверим гипотезу и сделаем выводы."
   ]
  },
  {
   "cell_type": "markdown",
   "id": "e39ba1c9",
   "metadata": {},
   "source": [
    "Нулевая гипотеза: пользователи с подпиской проезжают  за одну поездку, больше 3130 метров.\n",
    "\n",
    "Альернативная гипотеза: пользователи с подпиской проезжают  за одну поездку,не больше 3130 метров."
   ]
  },
  {
   "cell_type": "code",
   "execution_count": 153,
   "id": "a2fc3599",
   "metadata": {},
   "outputs": [
    {
     "name": "stdout",
     "output_type": "stream",
     "text": [
      "p-значение: 0.08046311521502145\n",
      "Отвергаем нулевую гипотезу:пользователи с подпиской проезжают  за одну поездку,не больше 3130 метров.\n"
     ]
    }
   ],
   "source": [
    "interested_value = 3130 # оптимальное расстояние одной поездки\n",
    "\n",
    "alpha = 0.05 # уровень статистической значимости\n",
    "\n",
    "results = st.ttest_1samp(\n",
    "    dataultra['distance'], \n",
    "    interested_value,\n",
    "      alternative='less') \n",
    "\n",
    "print('p-значение:', results.pvalue)\n",
    "\n",
    "if results.pvalue>alpha:\n",
    "    print('Отвергаем нулевую гипотезу:пользователи с подпиской проезжают  за одну поездку,не больше 3130 метров.')\n",
    "else:\n",
    "    print('Не получилось отвергнуть нулевую гипотезу:пользователи с подпиской проезжают  за одну поездку, больше 3130 метров.')"
   ]
  },
  {
   "cell_type": "markdown",
   "id": "dba4e052",
   "metadata": {},
   "source": [
    "6.3. Проверим гипотезу о том, будет ли помесячная выручка от пользователей с подпиской по месяцам выше, чем выручка от пользователей без подписки.\n",
    "\n",
    "Подготовим 2 таблицы с подпиской и без, с указанием выручки по месяцам."
   ]
  },
  {
   "cell_type": "code",
   "execution_count": 154,
   "id": "645465d2",
   "metadata": {},
   "outputs": [],
   "source": [
    "def method_revenue_month_free(data_revenue):\n",
    "    if data_revenue['user_id'] in datafree['user_id'].values:\n",
    "        return data_revenue['revenue']"
   ]
  },
  {
   "cell_type": "code",
   "execution_count": 155,
   "id": "3a1ec4d8",
   "metadata": {
    "scrolled": true
   },
   "outputs": [
    {
     "data": {
      "text/plain": [
       "4533     170.0\n",
       "4534     938.0\n",
       "4535     202.0\n",
       "4536     178.0\n",
       "4537     332.0\n",
       "         ...  \n",
       "11326    300.0\n",
       "11327    484.0\n",
       "11328    234.0\n",
       "11329    816.0\n",
       "11330    178.0\n",
       "Length: 6798, dtype: float64"
      ]
     },
     "execution_count": 155,
     "metadata": {},
     "output_type": "execute_result"
    }
   ],
   "source": [
    "revenue_month_free=data_revenue.apply(method_revenue_month_free, axis =1)\n",
    "revenue_month_free = revenue_month_free.dropna()\n",
    "revenue_month_free"
   ]
  },
  {
   "cell_type": "code",
   "execution_count": 156,
   "id": "44ccdf72",
   "metadata": {},
   "outputs": [],
   "source": [
    "def method_revenue_month_ultra(data_revenue):\n",
    "    if data_revenue['user_id'] in dataultra['user_id'].values:\n",
    "        return data_revenue['revenue']"
   ]
  },
  {
   "cell_type": "code",
   "execution_count": 157,
   "id": "445f4ec7",
   "metadata": {
    "scrolled": true
   },
   "outputs": [
    {
     "data": {
      "text/plain": [
       "0       451.0\n",
       "1       241.0\n",
       "2       469.0\n",
       "3       391.0\n",
       "4       523.0\n",
       "        ...  \n",
       "4528    301.0\n",
       "4529    469.0\n",
       "4530    385.0\n",
       "4531    295.0\n",
       "4532    355.0\n",
       "Length: 4533, dtype: float64"
      ]
     },
     "execution_count": 157,
     "metadata": {},
     "output_type": "execute_result"
    }
   ],
   "source": [
    "revenue_month_ultra=data_revenue.apply(method_revenue_month_ultra, axis =1)\n",
    "revenue_month_ultra = revenue_month_ultra.dropna()\n",
    "revenue_month_ultra"
   ]
  },
  {
   "cell_type": "markdown",
   "id": "18dd398c",
   "metadata": {},
   "source": [
    "Нулевая гипотеза: помесячная выручка от пользователей с подпиской по месяцам выше.\n",
    "\n",
    "Альернативная гипотеза: помесячная выручка от пользователей с подпиской по месяцам выше."
   ]
  },
  {
   "cell_type": "code",
   "execution_count": 159,
   "id": "95f739e1",
   "metadata": {},
   "outputs": [
    {
     "name": "stdout",
     "output_type": "stream",
     "text": [
      "p-value: 1.0718729651261336e-44\n",
      "Нет оснований отвергнуть нулевую гипотезу.Помесячная выручка от пользователей с подпиской по месяцам выше.\n",
      "Средняя помесячная выручка от пользователей с подпиской 361.48.\n",
      "Средняя помесячная выручка от пользователей без подписки 325.84.\n"
     ]
    }
   ],
   "source": [
    "alpha = 0.05 # уровень статистической значимости\n",
    "\n",
    "\n",
    "results = st.ttest_ind(revenue_month_ultra, revenue_month_free, alternative='greater', equal_var = False)\n",
    "\n",
    "print(f'p-value: {results.pvalue}')\n",
    "\n",
    "# проверяем p-value\n",
    "if results.pvalue > alpha:\n",
    "    print('Отвергаем нулевую гипотезу. Помесячная выручка от пользователей с подпиской по месяцам не выше.')\n",
    "else:\n",
    "    print('Нет оснований отвергнуть нулевую гипотезу.Помесячная выручка от пользователей с подпиской по месяцам выше.')\n",
    "    \n",
    "print(f'Средняя помесячная выручка от пользователей с подпиской {round(revenue_month_ultra.mean(), 2)}.')\n",
    "print(f'Средняя помесячная выручка от пользователей без подписки {round(revenue_month_free.mean(), 2)}.')"
   ]
  },
  {
   "cell_type": "code",
   "execution_count": 160,
   "id": "c61f9111",
   "metadata": {},
   "outputs": [
    {
     "name": "stdout",
     "output_type": "stream",
     "text": [
      "p-value: 1.0718729651261336e-44\n",
      "Нет оснований отвергнуть нулевую гипотезу.Помесячная выручка от пользователей с подпиской по месяцам выше.\n",
      "Средняя помесячная выручка от пользователей с подпиской 361.48.\n",
      "Средняя помесячная выручка от пользователей без подписки 325.84.\n"
     ]
    }
   ],
   "source": [
    "alpha = 0.05 # уровень статистической значимости\n",
    "\n",
    "\n",
    "results = st.ttest_ind(revenue_month_ultra, revenue_month_free, alternative='greater', equal_var = False)\n",
    "\n",
    "print(f'p-value: {results.pvalue}')\n",
    "\n",
    "# проверяем p-value\n",
    "if results.pvalue > alpha:\n",
    "    print('Отвергаем нулевую гипотезу. Помесячная выручка от пользователей с подпиской по месяцам не выше.')\n",
    "else:\n",
    "    print('Нет оснований отвергнуть нулевую гипотезу.Помесячная выручка от пользователей с подпиской по месяцам выше.')\n",
    "    \n",
    "print(f'Средняя помесячная выручка от пользователей с подпиской {round(revenue_month_ultra.mean(), 2)}.')\n",
    "print(f'Средняя помесячная выручка от пользователей без подписки {round(revenue_month_free.mean(), 2)}.')"
   ]
  },
  {
   "cell_type": "markdown",
   "id": "b42fadf4",
   "metadata": {},
   "source": [
    "6.4. Представим такую ситуацию: техническая команда сервиса обновила сервера, с которыми взаимодействует мобильное приложение. Она надеется, что из-за этого количество обращений в техподдержку значимо снизилось. Некоторый файл содержит для каждого пользователя данные о количестве обращений до обновления и после него. Какой тест нам понадобился бы для проверки этой гипотезы?"
   ]
  },
  {
   "cell_type": "markdown",
   "id": "2d73a98a",
   "metadata": {},
   "source": [
    "Чтобы проверить гипотезу о равенстве среднего генеральной совокупности для зависимых (парных) выборок в Python, применим метод scipy.stats.ttest_rel().\n",
    "Ему достаточно передать всего два параметра: наборы данных до и после. Оба набора должны быть одинаковыми по размеру: каждое измерение должно быть проведено до и после изменения.\n",
    "Подразумевается, что порядок объектов, для которых сделаны измерения, в обоих массивах тоже одинаковый: \n",
    "k-е число во втором наборе — это измерения для одного и того же объекта до и после изменения. Тест будет односторонним."
   ]
  },
  {
   "cell_type": "markdown",
   "id": "4535a2f7",
   "metadata": {},
   "source": [
    "Вывод. Пользователи с подпиской тратят больше времени на поездки, проезжают  за одну поездку,не больше 3130 метров, и помесячная выручка по месяцам выше.Продакт-менеджерам сервиса можно увеличивать количество пользователей с подпиской."
   ]
  },
  {
   "cell_type": "markdown",
   "id": "0c471992",
   "metadata": {},
   "source": [
    "#### Шаг 7. Распределения"
   ]
  },
  {
   "cell_type": "markdown",
   "id": "3967e962",
   "metadata": {},
   "source": [
    "7.1 Отделу маркетинга GoFast поставили задачу: нужно провести акцию с раздачей промокодов на один бесплатный месяц подписки, в рамках которой как минимум 100 существующих клиентов должны продлить эту подписку. То есть по завершении периода действия подписки пользователь может либо отказаться от неё, либо продлить, совершив соответствующий платёж. \n",
    "\n",
    "Эта акция уже проводилась ранее и по итогу выяснилось, что после бесплатного пробного периода подписку продлевают 10 % пользователей. Выясним, какое минимальное количество промокодов нужно разослать, чтобы вероятность не выполнить план была примерно 5 %. Подберем параметры распределения, описывающего эту ситуацию, построем график распределения и сформулируем ответ на вопрос о количестве промокодов."
   ]
  },
  {
   "cell_type": "code",
   "execution_count": 161,
   "id": "f64cd46e",
   "metadata": {},
   "outputs": [
    {
     "name": "stdout",
     "output_type": "stream",
     "text": [
      "Количество промокодов, которое нужно раздать 1161\n"
     ]
    },
    {
     "data": {
      "image/png": "[encoded data removed]",
      "text/plain": [
       "<Figure size 432x288 with 1 Axes>"
      ]
     },
     "metadata": {
      "needs_background": "light"
     },
     "output_type": "display_data"
    }
   ],
   "source": [
    "# вероятность продлить подписку\n",
    "p = 0.1\n",
    "k=99\n",
    "\n",
    "n = [1000]\n",
    "cdfs = [st.binom.cdf(k,n[-1],p)]\n",
    "while cdfs[-1] >= 0.05:\n",
    "    n.append(n[-1]+1) \n",
    "    cdfs.append(st.binom.cdf(k,n[-1],p))\n",
    "    \n",
    "print('Количество промокодов, которое нужно раздать', n[-1])\n",
    "\n",
    "plt.plot(n,cdfs)\n",
    "plt.plot(n, [0.05 for i in range(len(n))])\n",
    "plt.title('Вероятность не выполнить план')\n",
    "plt.xlabel('Количество промокодов')\n",
    "plt.ylabel('Вероятность не выполнить план')\n",
    "plt.show()"
   ]
  },
  {
   "cell_type": "markdown",
   "id": "28f8f860",
   "metadata": {},
   "source": [
    "7.2 Отдел маркетинга рассылает клиентам push-уведомления в мобильном приложении. Клиенты могут открыть его или не открывать. Известно, что уведомления открывают около 40 % получивших клиентов. Отдел планирует разослать 1 млн уведомлений. С помощью аппроксимации постройте примерный график распределения и оцените вероятность того, что уведомление откроют не более 399,5 тыс. пользователей."
   ]
  },
  {
   "cell_type": "markdown",
   "id": "06d0829c",
   "metadata": {},
   "source": [
    "Поскольку вероятность открытия уведомления близка к 0.5, а количество разосланных уведомлений досточно большое - 1 млн, то скорее всего можно аппроксимировать биномиальное распределение нормальным. Проверим."
   ]
  },
  {
   "cell_type": "code",
   "execution_count": 162,
   "id": "ad48de23",
   "metadata": {},
   "outputs": [
    {
     "data": {
      "image/png": "[encoded data removed]",
      "text/plain": [
       "<Figure size 432x288 with 1 Axes>"
      ]
     },
     "metadata": {
      "needs_background": "light"
     },
     "output_type": "display_data"
    },
    {
     "data": {
      "text/plain": [
       "<Figure size 1440x864 with 0 Axes>"
      ]
     },
     "metadata": {},
     "output_type": "display_data"
    },
    {
     "name": "stdout",
     "output_type": "stream",
     "text": [
      "Условие выполняется\n"
     ]
    }
   ],
   "source": [
    "# задаём параметры биномиального распределения\n",
    "n = 1000000\n",
    "p = 0.4\n",
    "\n",
    "# задаём параметры нормального распределения равными\n",
    "# мат.ожиданию и дисперсии биномиального распределения\n",
    "mu = n * p\n",
    "sigma = sqrt(n * p * (1 - p))\n",
    "\n",
    "# границы промежутка, в котором будем строить аппроксимацию -\n",
    "# от n*p минус 4 ст.отклонения бином.распределения\n",
    "# до n*p плюс 4 ст.отклонения бином.распределения\n",
    "# (там, где вероятности значений почти не равны нулю)\n",
    "left = int(n * p - 4 * sqrt(n * p * (1 - p)))\n",
    "right = int(n * p + 4 * sqrt(n * p * (1 - p)))\n",
    " \n",
    "# зададим набор значений биномиальной величины на выбранном промежутке:\n",
    "# все неотрицательные целые числа от left до right\n",
    "x = np.linspace(max(0,left),right,10, dtype= int)\n",
    "# рисуем график биномиального распределения\n",
    "ax = plt.subplot()\n",
    "# используем синие о-образные маркеры и размер маркера 5\n",
    "ax.plot(x, binom.pmf(x, n, p), 'bo', ms=5,\n",
    "      label='вероятности биномиального распределения')\n",
    "\n",
    "# зададим параметры нормального распределения равными\n",
    "# мат.ожиданию и дисперсии биномиального распределения\n",
    "mu = n * p\n",
    "sigma = sqrt(n * p * (1 - p))\n",
    " \n",
    "# рисуем график нормального распределения:\n",
    "# получим список из 100 чисел от left до right\n",
    "x = np.linspace(left,right,100, dtype= int)\n",
    "# используем красную линию ширины 3 и прозрачности 0.3\n",
    "ax.plot(x, norm.pdf(x, mu, sigma), 'r-', lw=3, alpha=0.3, label='плотность вероятности нормального распределения')\n",
    " \n",
    "# зададим подписи по оси x в пределах ± 3 ст.отклонений от мат.ожидания\n",
    "# (последний аргумент в методе range - интервал между подписями)\n",
    "x_ticks = list(range(int(mu - 3 * sigma), int(mu + 3 * sigma), 1))\n",
    "ax.set_xticks(x_ticks)\n",
    "\n",
    "# настраиваем оптимальное расположение легенды и выводим график\n",
    "ax.legend(loc='best')\n",
    "plt.figure(figsize=(20,12))\n",
    "plt.show()\n",
    "\n",
    "# выводим, выполняется ли наше условие аппроксимации:\n",
    "# лежит ли mu ± 3 sigma в промежутке от 0 до n:\n",
    "if (mu - (3 * sigma) >= 0) and ((mu + (3 * sigma) <= n)):\n",
    "    print('Условие выполняется')\n",
    "else:\n",
    "    print('Условие не выполняется')"
   ]
  },
  {
   "cell_type": "code",
   "execution_count": 163,
   "id": "339a3134",
   "metadata": {},
   "outputs": [
    {
     "name": "stdout",
     "output_type": "stream",
     "text": [
      "Вероятность того, что уведомление откроют не более 399,5 тыс. пользователей 15.37%.\n"
     ]
    }
   ],
   "source": [
    "# задаём параметры нормального распределения равными\n",
    "# мат.ожиданию и дисперсии биномиального распределения\n",
    "mu = n * p\n",
    "sigma = sqrt(n * p * (1 - p))\n",
    "\n",
    "# задаём нормальное распределение\n",
    "distr = st.norm(mu, sigma)\n",
    "\n",
    "# считаем вероятность хвоста слева от 399,5 тыс. \n",
    "result = distr.cdf(399500)\n",
    "print(f'Вероятность того, что уведомление откроют не более 399,5 тыс. пользователей {(result*100).round(2)}%.')\n",
    "\n"
   ]
  },
  {
   "cell_type": "markdown",
   "id": "f55bce93",
   "metadata": {},
   "source": [
    "#### Общий вывод.\n"
   ]
  },
  {
   "cell_type": "markdown",
   "id": "40c5b26d",
   "metadata": {},
   "source": [
    "Исследование о сервисе аренды самокатов GoFast началось с предобработки данных.\n",
    "\n",
    "Мы проверили и исправили соотвествие типов каждому столбцу, формат даты перевели из object в datetime, удалили явные дубликаты .Пропусков и явных дубликатов в данных не обнаружили.\n",
    "\n",
    "В таблице данные об 8 городах и 1534 людей.\n",
    "\n",
    "Чаще всего в данных встречались пользователи из Пятигорска (более 200 человек),без подписки,в возрасте от 24 до 28, проезжающие от 2.9 км до 3.5 км за 16-21 минуту. Реже всего встречались пользователи из Москвы с подпиской в возрасте от 35 до 40, с преодоленным расстоянием свыше 6 км, со временем использования 35-40 минут.\n",
    "\n",
    "Поездок без подписок больше их 11 568, они проезжают расстояния  2,1-3,5км.,время тратят 14-22 минуты.\n",
    "\n",
    "Поездок с подпиской меньше 6 500, расстояния 3-3,5 км., время 15-20 минут.\n",
    "\n",
    " Пользователи с подпиской тратят больше времени на поездки, проезжают за одну поездку,не больше 3130 метров, и помесячная выручка по месяцам выше.Продакт-менеджерам сервиса можно увеличивать количество пользователей с подпиской.\n",
    " \n",
    "Рекомендация по улучшению сбора данных и системы скоринга столбец с датой собирать в типе datetime;"
   ]
  },
  {
   "cell_type": "code",
   "execution_count": null,
   "id": "a92fd3de",
   "metadata": {},
   "outputs": [],
   "source": []
  }
 ],
 "metadata": {
  "ExecuteTimeLog": [
   {
    "duration": 452,
    "start_time": "2023-10-20T04:12:04.546Z"
   },
   {
    "duration": 252,
    "start_time": "2023-10-20T04:19:03.307Z"
   },
   {
    "duration": 93,
    "start_time": "2023-10-20T04:20:14.754Z"
   },
   {
    "duration": 66,
    "start_time": "2023-10-20T04:20:17.617Z"
   },
   {
    "duration": 27,
    "start_time": "2023-10-20T04:20:39.686Z"
   },
   {
    "duration": 117,
    "start_time": "2023-10-20T04:21:39.740Z"
   },
   {
    "duration": 167,
    "start_time": "2023-10-20T04:23:13.124Z"
   },
   {
    "duration": 22,
    "start_time": "2023-10-20T06:32:20.572Z"
   },
   {
    "duration": 9,
    "start_time": "2023-10-20T06:32:44.438Z"
   },
   {
    "duration": 11,
    "start_time": "2023-10-20T06:33:00.856Z"
   },
   {
    "duration": 16,
    "start_time": "2023-10-20T06:39:43.410Z"
   },
   {
    "duration": 12,
    "start_time": "2023-10-20T06:40:04.007Z"
   },
   {
    "duration": 15,
    "start_time": "2023-10-20T06:40:37.079Z"
   },
   {
    "duration": 73,
    "start_time": "2023-10-20T06:56:36.349Z"
   },
   {
    "duration": 963,
    "start_time": "2023-10-20T08:58:19.455Z"
   },
   {
    "duration": 3,
    "start_time": "2023-10-20T08:58:44.178Z"
   },
   {
    "duration": 408,
    "start_time": "2023-10-20T08:58:49.887Z"
   },
   {
    "duration": 642,
    "start_time": "2023-10-20T08:59:16.102Z"
   },
   {
    "duration": 577,
    "start_time": "2023-10-20T08:59:30.415Z"
   },
   {
    "duration": 5,
    "start_time": "2023-10-20T09:03:01.454Z"
   },
   {
    "duration": 14,
    "start_time": "2023-10-20T09:04:36.770Z"
   },
   {
    "duration": 22,
    "start_time": "2023-10-20T09:06:21.833Z"
   },
   {
    "duration": 26,
    "start_time": "2023-10-20T09:06:44.758Z"
   },
   {
    "duration": 12,
    "start_time": "2023-10-20T09:09:22.063Z"
   },
   {
    "duration": 3379,
    "start_time": "2023-10-20T09:11:16.205Z"
   },
   {
    "duration": 1333,
    "start_time": "2023-10-20T09:12:37.187Z"
   },
   {
    "duration": 3,
    "start_time": "2023-10-20T09:13:00.814Z"
   },
   {
    "duration": 650,
    "start_time": "2023-10-20T09:14:02.969Z"
   },
   {
    "duration": 579,
    "start_time": "2023-10-20T09:14:47.149Z"
   },
   {
    "duration": 547,
    "start_time": "2023-10-20T09:15:05.290Z"
   },
   {
    "duration": 7,
    "start_time": "2023-10-20T09:16:30.818Z"
   },
   {
    "duration": 7,
    "start_time": "2023-10-20T09:17:04.917Z"
   },
   {
    "duration": 7,
    "start_time": "2023-10-20T09:17:28.837Z"
   },
   {
    "duration": 42,
    "start_time": "2023-10-20T09:18:41.074Z"
   },
   {
    "duration": 6,
    "start_time": "2023-10-20T09:19:15.912Z"
   },
   {
    "duration": 11,
    "start_time": "2023-10-20T09:21:05.460Z"
   },
   {
    "duration": 7,
    "start_time": "2023-10-20T09:21:16.119Z"
   },
   {
    "duration": 6,
    "start_time": "2023-10-20T09:21:26.828Z"
   },
   {
    "duration": 7,
    "start_time": "2023-10-20T09:22:02.887Z"
   },
   {
    "duration": 3,
    "start_time": "2023-10-20T11:18:28.234Z"
   },
   {
    "duration": 93,
    "start_time": "2023-10-20T11:18:28.238Z"
   },
   {
    "duration": 10,
    "start_time": "2023-10-20T11:18:28.333Z"
   },
   {
    "duration": 24,
    "start_time": "2023-10-20T11:18:28.345Z"
   },
   {
    "duration": 26,
    "start_time": "2023-10-20T11:18:28.373Z"
   },
   {
    "duration": 25,
    "start_time": "2023-10-20T11:18:28.402Z"
   },
   {
    "duration": 36,
    "start_time": "2023-10-20T11:18:28.430Z"
   },
   {
    "duration": 29,
    "start_time": "2023-10-20T11:18:28.468Z"
   },
   {
    "duration": 30,
    "start_time": "2023-10-20T11:18:28.500Z"
   },
   {
    "duration": 22,
    "start_time": "2023-10-20T11:18:28.532Z"
   },
   {
    "duration": 13,
    "start_time": "2023-10-20T11:18:28.556Z"
   },
   {
    "duration": 20,
    "start_time": "2023-10-20T11:18:28.571Z"
   },
   {
    "duration": 9,
    "start_time": "2023-10-20T11:18:28.593Z"
   },
   {
    "duration": 9,
    "start_time": "2023-10-20T11:20:36.516Z"
   },
   {
    "duration": 6,
    "start_time": "2023-10-20T11:23:03.877Z"
   },
   {
    "duration": 5,
    "start_time": "2023-10-20T11:41:38.894Z"
   },
   {
    "duration": 5,
    "start_time": "2023-10-20T11:42:46.829Z"
   },
   {
    "duration": 5,
    "start_time": "2023-10-20T11:43:12.400Z"
   },
   {
    "duration": 1388,
    "start_time": "2023-10-20T11:44:01.743Z"
   },
   {
    "duration": 6,
    "start_time": "2023-10-20T11:44:52.061Z"
   },
   {
    "duration": 184,
    "start_time": "2023-10-20T11:48:54.526Z"
   },
   {
    "duration": 4,
    "start_time": "2023-10-20T11:54:11.452Z"
   },
   {
    "duration": 106,
    "start_time": "2023-10-20T11:57:15.845Z"
   },
   {
    "duration": 6,
    "start_time": "2023-10-20T11:58:42.618Z"
   },
   {
    "duration": 4,
    "start_time": "2023-10-20T11:59:07.534Z"
   },
   {
    "duration": 85,
    "start_time": "2023-10-20T12:00:21.075Z"
   },
   {
    "duration": 6,
    "start_time": "2023-10-20T12:01:42.619Z"
   },
   {
    "duration": 6,
    "start_time": "2023-10-20T12:02:03.000Z"
   },
   {
    "duration": 5,
    "start_time": "2023-10-20T12:09:47.241Z"
   },
   {
    "duration": 5,
    "start_time": "2023-10-20T12:10:18.985Z"
   },
   {
    "duration": 77,
    "start_time": "2023-10-20T12:20:31.408Z"
   },
   {
    "duration": 141,
    "start_time": "2023-10-20T12:22:33.753Z"
   },
   {
    "duration": 140,
    "start_time": "2023-10-20T12:25:45.427Z"
   },
   {
    "duration": 140,
    "start_time": "2023-10-20T12:25:57.473Z"
   },
   {
    "duration": 251,
    "start_time": "2023-10-20T12:29:36.091Z"
   },
   {
    "duration": 161,
    "start_time": "2023-10-20T12:31:25.391Z"
   },
   {
    "duration": 135,
    "start_time": "2023-10-20T12:32:04.060Z"
   },
   {
    "duration": 166,
    "start_time": "2023-10-20T12:32:11.504Z"
   },
   {
    "duration": 124,
    "start_time": "2023-10-20T12:35:27.855Z"
   },
   {
    "duration": 119,
    "start_time": "2023-10-20T12:36:00.432Z"
   },
   {
    "duration": 121,
    "start_time": "2023-10-20T12:37:09.462Z"
   },
   {
    "duration": 154,
    "start_time": "2023-10-20T12:37:43.587Z"
   },
   {
    "duration": 148,
    "start_time": "2023-10-20T12:38:09.375Z"
   },
   {
    "duration": 182,
    "start_time": "2023-10-20T12:38:20.670Z"
   },
   {
    "duration": 145,
    "start_time": "2023-10-20T12:38:36.019Z"
   },
   {
    "duration": 234,
    "start_time": "2023-10-20T12:38:53.972Z"
   },
   {
    "duration": 143,
    "start_time": "2023-10-20T12:39:03.340Z"
   },
   {
    "duration": 144,
    "start_time": "2023-10-20T12:39:59.553Z"
   },
   {
    "duration": 140,
    "start_time": "2023-10-20T12:42:13.844Z"
   },
   {
    "duration": 142,
    "start_time": "2023-10-20T12:44:50.110Z"
   },
   {
    "duration": 46,
    "start_time": "2023-10-20T22:34:41.806Z"
   },
   {
    "duration": 841,
    "start_time": "2023-10-20T22:34:49.766Z"
   },
   {
    "duration": 0,
    "start_time": "2023-10-20T22:34:50.610Z"
   },
   {
    "duration": 0,
    "start_time": "2023-10-20T22:34:50.611Z"
   },
   {
    "duration": 0,
    "start_time": "2023-10-20T22:34:50.612Z"
   },
   {
    "duration": 0,
    "start_time": "2023-10-20T22:34:50.613Z"
   },
   {
    "duration": 0,
    "start_time": "2023-10-20T22:34:50.615Z"
   },
   {
    "duration": 0,
    "start_time": "2023-10-20T22:34:50.616Z"
   },
   {
    "duration": 0,
    "start_time": "2023-10-20T22:34:50.618Z"
   },
   {
    "duration": 0,
    "start_time": "2023-10-20T22:34:50.619Z"
   },
   {
    "duration": 0,
    "start_time": "2023-10-20T22:34:50.621Z"
   },
   {
    "duration": 0,
    "start_time": "2023-10-20T22:34:50.622Z"
   },
   {
    "duration": 0,
    "start_time": "2023-10-20T22:34:50.624Z"
   },
   {
    "duration": 0,
    "start_time": "2023-10-20T22:34:50.625Z"
   },
   {
    "duration": 0,
    "start_time": "2023-10-20T22:34:50.627Z"
   },
   {
    "duration": 0,
    "start_time": "2023-10-20T22:34:50.628Z"
   },
   {
    "duration": 0,
    "start_time": "2023-10-20T22:34:50.630Z"
   },
   {
    "duration": 0,
    "start_time": "2023-10-20T22:34:50.631Z"
   },
   {
    "duration": 0,
    "start_time": "2023-10-20T22:34:50.633Z"
   },
   {
    "duration": 0,
    "start_time": "2023-10-20T22:34:50.635Z"
   },
   {
    "duration": 0,
    "start_time": "2023-10-20T22:34:50.636Z"
   },
   {
    "duration": 0,
    "start_time": "2023-10-20T22:34:50.638Z"
   },
   {
    "duration": 0,
    "start_time": "2023-10-20T22:34:50.639Z"
   },
   {
    "duration": 0,
    "start_time": "2023-10-20T22:34:50.640Z"
   },
   {
    "duration": 0,
    "start_time": "2023-10-20T22:34:50.642Z"
   },
   {
    "duration": 3,
    "start_time": "2023-10-20T22:35:36.720Z"
   },
   {
    "duration": 208,
    "start_time": "2023-10-20T22:35:36.725Z"
   },
   {
    "duration": 12,
    "start_time": "2023-10-20T22:35:36.935Z"
   },
   {
    "duration": 56,
    "start_time": "2023-10-20T22:35:36.949Z"
   },
   {
    "duration": 28,
    "start_time": "2023-10-20T22:35:37.008Z"
   },
   {
    "duration": 21,
    "start_time": "2023-10-20T22:35:37.038Z"
   },
   {
    "duration": 35,
    "start_time": "2023-10-20T22:35:37.060Z"
   },
   {
    "duration": 14,
    "start_time": "2023-10-20T22:35:37.097Z"
   },
   {
    "duration": 24,
    "start_time": "2023-10-20T22:35:37.113Z"
   },
   {
    "duration": 21,
    "start_time": "2023-10-20T22:35:37.138Z"
   },
   {
    "duration": 30,
    "start_time": "2023-10-20T22:35:37.161Z"
   },
   {
    "duration": 12,
    "start_time": "2023-10-20T22:35:37.192Z"
   },
   {
    "duration": 15,
    "start_time": "2023-10-20T22:35:37.205Z"
   },
   {
    "duration": 19,
    "start_time": "2023-10-20T22:35:37.222Z"
   },
   {
    "duration": 22,
    "start_time": "2023-10-20T22:35:37.242Z"
   },
   {
    "duration": 29,
    "start_time": "2023-10-20T22:35:37.266Z"
   },
   {
    "duration": 27,
    "start_time": "2023-10-20T22:35:37.297Z"
   },
   {
    "duration": 13,
    "start_time": "2023-10-20T22:35:37.326Z"
   },
   {
    "duration": 19,
    "start_time": "2023-10-20T22:35:37.341Z"
   },
   {
    "duration": 156,
    "start_time": "2023-10-20T22:35:37.362Z"
   },
   {
    "duration": 5,
    "start_time": "2023-10-20T22:35:37.520Z"
   },
   {
    "duration": 31,
    "start_time": "2023-10-20T22:35:37.527Z"
   },
   {
    "duration": 48,
    "start_time": "2023-10-20T22:35:37.560Z"
   },
   {
    "duration": 42,
    "start_time": "2023-10-20T22:35:37.610Z"
   },
   {
    "duration": 5,
    "start_time": "2023-10-20T22:35:41.124Z"
   },
   {
    "duration": 4,
    "start_time": "2023-10-20T22:36:11.012Z"
   },
   {
    "duration": 14,
    "start_time": "2023-10-20T22:37:56.413Z"
   },
   {
    "duration": 24,
    "start_time": "2023-10-20T23:00:08.473Z"
   },
   {
    "duration": 81,
    "start_time": "2023-10-20T23:07:03.670Z"
   },
   {
    "duration": 11,
    "start_time": "2023-10-20T23:08:02.468Z"
   },
   {
    "duration": 26,
    "start_time": "2023-10-20T23:08:07.796Z"
   },
   {
    "duration": 10,
    "start_time": "2023-10-20T23:09:42.621Z"
   },
   {
    "duration": 7,
    "start_time": "2023-10-20T23:09:56.781Z"
   },
   {
    "duration": 19,
    "start_time": "2023-10-20T23:10:13.229Z"
   },
   {
    "duration": 1419,
    "start_time": "2023-10-20T23:11:34.188Z"
   },
   {
    "duration": 20,
    "start_time": "2023-10-20T23:12:08.935Z"
   },
   {
    "duration": 150,
    "start_time": "2023-10-20T23:19:32.664Z"
   },
   {
    "duration": 156,
    "start_time": "2023-10-20T23:22:27.170Z"
   },
   {
    "duration": 756,
    "start_time": "2023-10-21T05:22:48.907Z"
   },
   {
    "duration": 297,
    "start_time": "2023-10-21T05:22:49.665Z"
   },
   {
    "duration": 12,
    "start_time": "2023-10-21T05:22:49.964Z"
   },
   {
    "duration": 8,
    "start_time": "2023-10-21T05:22:49.979Z"
   },
   {
    "duration": 29,
    "start_time": "2023-10-21T05:22:49.989Z"
   },
   {
    "duration": 42,
    "start_time": "2023-10-21T05:22:50.020Z"
   },
   {
    "duration": 25,
    "start_time": "2023-10-21T05:22:50.063Z"
   },
   {
    "duration": 11,
    "start_time": "2023-10-21T05:22:50.090Z"
   },
   {
    "duration": 14,
    "start_time": "2023-10-21T05:22:50.103Z"
   },
   {
    "duration": 6,
    "start_time": "2023-10-21T05:22:50.120Z"
   },
   {
    "duration": 5,
    "start_time": "2023-10-21T05:22:50.127Z"
   },
   {
    "duration": 10,
    "start_time": "2023-10-21T05:22:50.134Z"
   },
   {
    "duration": 7,
    "start_time": "2023-10-21T05:22:50.146Z"
   },
   {
    "duration": 21,
    "start_time": "2023-10-21T05:22:50.154Z"
   },
   {
    "duration": 4,
    "start_time": "2023-10-21T05:22:50.176Z"
   },
   {
    "duration": 8,
    "start_time": "2023-10-21T05:22:50.182Z"
   },
   {
    "duration": 5,
    "start_time": "2023-10-21T05:22:50.191Z"
   },
   {
    "duration": 6,
    "start_time": "2023-10-21T05:22:50.197Z"
   },
   {
    "duration": 7,
    "start_time": "2023-10-21T05:22:50.204Z"
   },
   {
    "duration": 150,
    "start_time": "2023-10-21T05:22:50.212Z"
   },
   {
    "duration": 4,
    "start_time": "2023-10-21T05:22:50.363Z"
   },
   {
    "duration": 48,
    "start_time": "2023-10-21T05:22:50.368Z"
   },
   {
    "duration": 4,
    "start_time": "2023-10-21T05:22:50.418Z"
   },
   {
    "duration": 5,
    "start_time": "2023-10-21T05:22:50.423Z"
   },
   {
    "duration": 28,
    "start_time": "2023-10-21T05:22:50.429Z"
   },
   {
    "duration": 9,
    "start_time": "2023-10-21T05:22:50.458Z"
   },
   {
    "duration": 157,
    "start_time": "2023-10-21T05:22:50.469Z"
   },
   {
    "duration": 104,
    "start_time": "2023-10-21T05:22:50.629Z"
   },
   {
    "duration": 139,
    "start_time": "2023-10-21T05:22:50.734Z"
   },
   {
    "duration": 187,
    "start_time": "2023-10-21T05:22:50.874Z"
   },
   {
    "duration": 129,
    "start_time": "2023-10-21T05:22:51.063Z"
   },
   {
    "duration": 23,
    "start_time": "2023-10-21T05:22:51.193Z"
   },
   {
    "duration": 37,
    "start_time": "2023-10-21T05:22:51.217Z"
   },
   {
    "duration": 23,
    "start_time": "2023-10-21T05:22:51.255Z"
   },
   {
    "duration": 161,
    "start_time": "2023-10-21T05:22:51.279Z"
   },
   {
    "duration": 160,
    "start_time": "2023-10-21T05:22:51.443Z"
   },
   {
    "duration": 34,
    "start_time": "2023-10-21T05:34:36.310Z"
   },
   {
    "duration": 31,
    "start_time": "2023-10-21T05:51:23.073Z"
   },
   {
    "duration": 30,
    "start_time": "2023-10-21T05:54:39.151Z"
   },
   {
    "duration": 29,
    "start_time": "2023-10-21T05:56:40.715Z"
   },
   {
    "duration": 31,
    "start_time": "2023-10-21T06:02:36.621Z"
   },
   {
    "duration": 29,
    "start_time": "2023-10-21T06:04:01.598Z"
   },
   {
    "duration": 32,
    "start_time": "2023-10-21T06:04:57.676Z"
   },
   {
    "duration": 83,
    "start_time": "2023-10-21T06:06:35.668Z"
   },
   {
    "duration": 2,
    "start_time": "2023-10-21T06:07:07.655Z"
   },
   {
    "duration": 30,
    "start_time": "2023-10-21T06:07:19.725Z"
   },
   {
    "duration": 31,
    "start_time": "2023-10-21T06:08:13.483Z"
   },
   {
    "duration": 99,
    "start_time": "2023-10-21T06:29:17.509Z"
   },
   {
    "duration": 94,
    "start_time": "2023-10-21T06:29:30.739Z"
   },
   {
    "duration": 109,
    "start_time": "2023-10-21T06:29:47.122Z"
   },
   {
    "duration": 4,
    "start_time": "2023-10-21T06:29:55.841Z"
   },
   {
    "duration": 254,
    "start_time": "2023-10-21T06:29:56.691Z"
   },
   {
    "duration": 239,
    "start_time": "2023-10-21T06:30:21.665Z"
   },
   {
    "duration": 3,
    "start_time": "2023-10-21T06:33:50.316Z"
   },
   {
    "duration": 1685,
    "start_time": "2023-10-21T06:33:52.634Z"
   },
   {
    "duration": 1740,
    "start_time": "2023-10-21T06:35:34.662Z"
   },
   {
    "duration": 3,
    "start_time": "2023-10-21T06:56:48.805Z"
   },
   {
    "duration": 1495,
    "start_time": "2023-10-21T06:56:51.780Z"
   },
   {
    "duration": 5,
    "start_time": "2023-10-21T07:05:12.949Z"
   },
   {
    "duration": 1648,
    "start_time": "2023-10-21T07:05:14.843Z"
   },
   {
    "duration": 443,
    "start_time": "2023-10-21T07:27:55.418Z"
   },
   {
    "duration": 37,
    "start_time": "2023-10-21T07:28:27.602Z"
   },
   {
    "duration": 407,
    "start_time": "2023-10-21T07:29:07.154Z"
   },
   {
    "duration": 47,
    "start_time": "2023-10-21T07:29:20.044Z"
   },
   {
    "duration": 33,
    "start_time": "2023-10-21T07:29:48.174Z"
   },
   {
    "duration": 4,
    "start_time": "2023-10-21T07:29:59.492Z"
   },
   {
    "duration": 454,
    "start_time": "2023-10-21T07:30:00.459Z"
   },
   {
    "duration": 16,
    "start_time": "2023-10-21T07:51:56.230Z"
   },
   {
    "duration": 8,
    "start_time": "2023-10-21T07:52:08.767Z"
   },
   {
    "duration": 9,
    "start_time": "2023-10-21T07:52:48.362Z"
   },
   {
    "duration": 5,
    "start_time": "2023-10-21T07:53:17.718Z"
   },
   {
    "duration": 8,
    "start_time": "2023-10-21T08:07:44.451Z"
   },
   {
    "duration": 395,
    "start_time": "2023-10-21T08:08:33.362Z"
   },
   {
    "duration": 6,
    "start_time": "2023-10-21T08:08:45.115Z"
   },
   {
    "duration": 4,
    "start_time": "2023-10-21T08:22:30.896Z"
   },
   {
    "duration": 5,
    "start_time": "2023-10-21T08:22:46.660Z"
   },
   {
    "duration": 5,
    "start_time": "2023-10-21T08:33:42.200Z"
   },
   {
    "duration": 7,
    "start_time": "2023-10-21T08:45:41.756Z"
   },
   {
    "duration": 205,
    "start_time": "2023-10-21T09:02:36.031Z"
   },
   {
    "duration": 143,
    "start_time": "2023-10-21T09:04:23.860Z"
   },
   {
    "duration": 5,
    "start_time": "2023-10-21T09:06:20.533Z"
   },
   {
    "duration": 7,
    "start_time": "2023-10-21T09:07:48.822Z"
   },
   {
    "duration": 7,
    "start_time": "2023-10-21T09:11:48.309Z"
   },
   {
    "duration": 4,
    "start_time": "2023-10-21T12:33:40.857Z"
   },
   {
    "duration": 111,
    "start_time": "2023-10-21T12:33:41.406Z"
   },
   {
    "duration": 14,
    "start_time": "2023-10-21T12:37:58.555Z"
   },
   {
    "duration": 18,
    "start_time": "2023-10-21T12:38:13.596Z"
   },
   {
    "duration": 32,
    "start_time": "2023-10-21T12:39:56.217Z"
   },
   {
    "duration": 6,
    "start_time": "2023-10-21T12:43:14.838Z"
   },
   {
    "duration": 7,
    "start_time": "2023-10-21T12:43:28.541Z"
   },
   {
    "duration": 5,
    "start_time": "2023-10-21T12:43:42.303Z"
   },
   {
    "duration": 4,
    "start_time": "2023-10-21T12:44:20.127Z"
   },
   {
    "duration": 4,
    "start_time": "2023-10-21T12:45:41.655Z"
   },
   {
    "duration": 4,
    "start_time": "2023-10-21T12:45:52.717Z"
   },
   {
    "duration": 4,
    "start_time": "2023-10-21T12:46:10.196Z"
   },
   {
    "duration": 4,
    "start_time": "2023-10-21T12:46:18.496Z"
   },
   {
    "duration": 5,
    "start_time": "2023-10-21T12:47:12.044Z"
   },
   {
    "duration": 5,
    "start_time": "2023-10-21T12:47:38.135Z"
   },
   {
    "duration": 3,
    "start_time": "2023-10-21T12:48:27.610Z"
   },
   {
    "duration": 84,
    "start_time": "2023-10-21T12:48:27.615Z"
   },
   {
    "duration": 9,
    "start_time": "2023-10-21T12:48:27.700Z"
   },
   {
    "duration": 17,
    "start_time": "2023-10-21T12:48:27.710Z"
   },
   {
    "duration": 26,
    "start_time": "2023-10-21T12:48:27.729Z"
   },
   {
    "duration": 13,
    "start_time": "2023-10-21T12:48:27.756Z"
   },
   {
    "duration": 12,
    "start_time": "2023-10-21T12:48:27.770Z"
   },
   {
    "duration": 20,
    "start_time": "2023-10-21T12:48:27.783Z"
   },
   {
    "duration": 20,
    "start_time": "2023-10-21T12:48:27.805Z"
   },
   {
    "duration": 6,
    "start_time": "2023-10-21T12:48:27.826Z"
   },
   {
    "duration": 20,
    "start_time": "2023-10-21T12:48:27.834Z"
   },
   {
    "duration": 6,
    "start_time": "2023-10-21T12:48:27.856Z"
   },
   {
    "duration": 15,
    "start_time": "2023-10-21T12:48:27.865Z"
   },
   {
    "duration": 68,
    "start_time": "2023-10-21T12:48:27.882Z"
   },
   {
    "duration": 16,
    "start_time": "2023-10-21T12:48:27.959Z"
   },
   {
    "duration": 27,
    "start_time": "2023-10-21T12:48:27.977Z"
   },
   {
    "duration": 20,
    "start_time": "2023-10-21T12:48:28.006Z"
   },
   {
    "duration": 41,
    "start_time": "2023-10-21T12:48:28.028Z"
   },
   {
    "duration": 7,
    "start_time": "2023-10-21T12:48:28.070Z"
   },
   {
    "duration": 125,
    "start_time": "2023-10-21T12:48:28.078Z"
   },
   {
    "duration": 4,
    "start_time": "2023-10-21T12:48:28.204Z"
   },
   {
    "duration": 8,
    "start_time": "2023-10-21T12:48:28.210Z"
   },
   {
    "duration": 4,
    "start_time": "2023-10-21T12:48:28.220Z"
   },
   {
    "duration": 22,
    "start_time": "2023-10-21T12:48:28.226Z"
   },
   {
    "duration": 11,
    "start_time": "2023-10-21T12:48:28.249Z"
   },
   {
    "duration": 9,
    "start_time": "2023-10-21T12:48:28.261Z"
   },
   {
    "duration": 148,
    "start_time": "2023-10-21T12:48:28.272Z"
   },
   {
    "duration": 113,
    "start_time": "2023-10-21T12:48:28.422Z"
   },
   {
    "duration": 141,
    "start_time": "2023-10-21T12:48:28.536Z"
   },
   {
    "duration": 131,
    "start_time": "2023-10-21T12:48:28.679Z"
   },
   {
    "duration": 146,
    "start_time": "2023-10-21T12:48:28.812Z"
   },
   {
    "duration": 25,
    "start_time": "2023-10-21T12:48:28.960Z"
   },
   {
    "duration": 19,
    "start_time": "2023-10-21T12:48:28.986Z"
   },
   {
    "duration": 19,
    "start_time": "2023-10-21T12:48:29.006Z"
   },
   {
    "duration": 152,
    "start_time": "2023-10-21T12:48:29.049Z"
   },
   {
    "duration": 167,
    "start_time": "2023-10-21T12:48:29.202Z"
   },
   {
    "duration": 37,
    "start_time": "2023-10-21T12:48:29.373Z"
   },
   {
    "duration": 80,
    "start_time": "2023-10-21T12:48:29.412Z"
   },
   {
    "duration": 572,
    "start_time": "2023-10-21T12:48:29.494Z"
   },
   {
    "duration": 7,
    "start_time": "2023-10-21T12:48:30.068Z"
   },
   {
    "duration": 55,
    "start_time": "2023-10-21T12:48:30.076Z"
   },
   {
    "duration": 40,
    "start_time": "2023-10-21T12:48:30.133Z"
   },
   {
    "duration": 155,
    "start_time": "2023-10-21T12:48:30.174Z"
   },
   {
    "duration": 4,
    "start_time": "2023-10-21T12:48:30.331Z"
   },
   {
    "duration": 120,
    "start_time": "2023-10-21T12:48:30.336Z"
   },
   {
    "duration": 0,
    "start_time": "2023-10-21T12:48:30.458Z"
   },
   {
    "duration": 0,
    "start_time": "2023-10-21T12:48:30.461Z"
   },
   {
    "duration": 0,
    "start_time": "2023-10-21T12:48:30.461Z"
   },
   {
    "duration": 3,
    "start_time": "2023-10-21T12:49:29.427Z"
   },
   {
    "duration": 66,
    "start_time": "2023-10-21T12:49:31.478Z"
   },
   {
    "duration": 65,
    "start_time": "2023-10-21T12:50:58.099Z"
   },
   {
    "duration": 80,
    "start_time": "2023-10-21T12:51:22.974Z"
   },
   {
    "duration": 67,
    "start_time": "2023-10-21T12:52:02.422Z"
   },
   {
    "duration": 72,
    "start_time": "2023-10-21T12:52:15.014Z"
   },
   {
    "duration": 73,
    "start_time": "2023-10-21T12:52:25.181Z"
   },
   {
    "duration": 70,
    "start_time": "2023-10-21T12:52:30.187Z"
   },
   {
    "duration": 64,
    "start_time": "2023-10-21T12:52:34.684Z"
   },
   {
    "duration": 5,
    "start_time": "2023-10-21T12:53:03.101Z"
   },
   {
    "duration": 4,
    "start_time": "2023-10-21T12:53:11.777Z"
   },
   {
    "duration": 4,
    "start_time": "2023-10-21T12:53:19.996Z"
   },
   {
    "duration": 4,
    "start_time": "2023-10-21T12:53:31.482Z"
   },
   {
    "duration": 11,
    "start_time": "2023-10-21T12:54:02.322Z"
   },
   {
    "duration": 14,
    "start_time": "2023-10-21T12:54:09.178Z"
   },
   {
    "duration": 6,
    "start_time": "2023-10-21T12:54:16.329Z"
   },
   {
    "duration": 4,
    "start_time": "2023-10-21T12:54:26.936Z"
   },
   {
    "duration": 4,
    "start_time": "2023-10-21T12:54:34.323Z"
   },
   {
    "duration": 5,
    "start_time": "2023-10-21T12:55:36.423Z"
   },
   {
    "duration": 3,
    "start_time": "2023-10-21T12:55:42.252Z"
   },
   {
    "duration": 5,
    "start_time": "2023-10-21T12:55:56.484Z"
   },
   {
    "duration": 5,
    "start_time": "2023-10-21T12:56:09.525Z"
   },
   {
    "duration": 6,
    "start_time": "2023-10-21T12:56:19.928Z"
   },
   {
    "duration": 6,
    "start_time": "2023-10-21T12:56:31.370Z"
   },
   {
    "duration": 6,
    "start_time": "2023-10-21T12:56:42.050Z"
   },
   {
    "duration": 3,
    "start_time": "2023-10-21T12:57:50.750Z"
   },
   {
    "duration": 640,
    "start_time": "2023-10-21T12:57:57.508Z"
   },
   {
    "duration": 3,
    "start_time": "2023-10-21T12:58:07.018Z"
   },
   {
    "duration": 270,
    "start_time": "2023-10-21T12:58:09.242Z"
   },
   {
    "duration": 294,
    "start_time": "2023-10-21T12:59:21.295Z"
   },
   {
    "duration": 263,
    "start_time": "2023-10-21T12:59:25.789Z"
   },
   {
    "duration": 285,
    "start_time": "2023-10-21T12:59:38.281Z"
   },
   {
    "duration": 271,
    "start_time": "2023-10-21T13:00:15.784Z"
   },
   {
    "duration": 267,
    "start_time": "2023-10-21T13:00:21.493Z"
   },
   {
    "duration": 257,
    "start_time": "2023-10-21T13:01:31.991Z"
   },
   {
    "duration": 3,
    "start_time": "2023-10-21T13:02:19.492Z"
   },
   {
    "duration": 237,
    "start_time": "2023-10-21T13:02:20.149Z"
   },
   {
    "duration": 225,
    "start_time": "2023-10-21T13:04:14.484Z"
   },
   {
    "duration": 246,
    "start_time": "2023-10-21T13:04:26.647Z"
   },
   {
    "duration": 351,
    "start_time": "2023-10-21T13:04:42.987Z"
   },
   {
    "duration": 14,
    "start_time": "2023-10-21T13:06:49.083Z"
   },
   {
    "duration": 10,
    "start_time": "2023-10-21T13:08:30.896Z"
   },
   {
    "duration": 6,
    "start_time": "2023-10-21T13:09:11.839Z"
   },
   {
    "duration": 6,
    "start_time": "2023-10-21T13:09:43.432Z"
   },
   {
    "duration": 6,
    "start_time": "2023-10-21T13:18:49.174Z"
   },
   {
    "duration": 6,
    "start_time": "2023-10-21T13:19:00.778Z"
   },
   {
    "duration": 124,
    "start_time": "2023-10-21T13:36:20.408Z"
   },
   {
    "duration": 3,
    "start_time": "2023-10-21T13:45:00.790Z"
   },
   {
    "duration": 5,
    "start_time": "2023-10-21T13:45:44.303Z"
   },
   {
    "duration": 5,
    "start_time": "2023-10-21T14:13:28.593Z"
   },
   {
    "duration": 124,
    "start_time": "2023-10-21T14:14:05.818Z"
   },
   {
    "duration": 4,
    "start_time": "2023-10-21T14:14:11.010Z"
   },
   {
    "duration": 8,
    "start_time": "2023-10-21T14:29:34.352Z"
   },
   {
    "duration": 25,
    "start_time": "2023-10-21T14:29:43.170Z"
   },
   {
    "duration": 26,
    "start_time": "2023-10-21T14:42:05.003Z"
   },
   {
    "duration": 133,
    "start_time": "2023-10-21T14:42:33.401Z"
   },
   {
    "duration": 39,
    "start_time": "2023-10-21T14:42:50.840Z"
   },
   {
    "duration": 34,
    "start_time": "2023-10-21T14:42:57.799Z"
   },
   {
    "duration": 321,
    "start_time": "2023-10-21T14:43:13.135Z"
   },
   {
    "duration": 203,
    "start_time": "2023-10-21T14:44:22.322Z"
   },
   {
    "duration": 135,
    "start_time": "2023-10-21T14:45:44.695Z"
   },
   {
    "duration": 128,
    "start_time": "2023-10-21T14:45:58.081Z"
   },
   {
    "duration": 131,
    "start_time": "2023-10-21T14:49:09.184Z"
   },
   {
    "duration": 134,
    "start_time": "2023-10-21T14:49:38.333Z"
   },
   {
    "duration": 138,
    "start_time": "2023-10-21T14:51:13.577Z"
   },
   {
    "duration": 141,
    "start_time": "2023-10-21T14:51:29.240Z"
   },
   {
    "duration": 141,
    "start_time": "2023-10-21T14:51:36.057Z"
   },
   {
    "duration": 170,
    "start_time": "2023-10-21T14:52:04.958Z"
   },
   {
    "duration": 146,
    "start_time": "2023-10-21T14:52:35.266Z"
   },
   {
    "duration": 3,
    "start_time": "2023-10-21T15:10:12.655Z"
   },
   {
    "duration": 8,
    "start_time": "2023-10-21T15:17:37.307Z"
   },
   {
    "duration": 3,
    "start_time": "2023-10-21T15:18:08.104Z"
   },
   {
    "duration": 5,
    "start_time": "2023-10-21T15:18:15.957Z"
   },
   {
    "duration": 93,
    "start_time": "2023-10-21T15:21:21.257Z"
   },
   {
    "duration": 5,
    "start_time": "2023-10-21T15:21:34.614Z"
   },
   {
    "duration": 6,
    "start_time": "2023-10-21T15:22:29.462Z"
   },
   {
    "duration": 5,
    "start_time": "2023-10-21T15:35:50.676Z"
   },
   {
    "duration": 10,
    "start_time": "2023-10-21T15:38:31.959Z"
   },
   {
    "duration": 39,
    "start_time": "2023-10-21T15:41:45.608Z"
   },
   {
    "duration": 6,
    "start_time": "2023-10-21T15:42:50.973Z"
   },
   {
    "duration": 105,
    "start_time": "2023-10-21T15:45:11.624Z"
   },
   {
    "duration": 5,
    "start_time": "2023-10-21T15:45:37.201Z"
   },
   {
    "duration": 12,
    "start_time": "2023-10-21T15:57:19.703Z"
   },
   {
    "duration": 12051,
    "start_time": "2023-10-21T15:59:14.966Z"
   },
   {
    "duration": 11852,
    "start_time": "2023-10-21T16:01:16.670Z"
   },
   {
    "duration": 42516,
    "start_time": "2023-10-21T16:03:07.700Z"
   },
   {
    "duration": 3262,
    "start_time": "2023-10-22T04:45:33.774Z"
   },
   {
    "duration": 199,
    "start_time": "2023-10-22T04:45:37.039Z"
   },
   {
    "duration": 21,
    "start_time": "2023-10-22T04:45:37.241Z"
   },
   {
    "duration": 21,
    "start_time": "2023-10-22T04:45:37.264Z"
   },
   {
    "duration": 38,
    "start_time": "2023-10-22T04:45:37.288Z"
   },
   {
    "duration": 28,
    "start_time": "2023-10-22T04:45:37.329Z"
   },
   {
    "duration": 21,
    "start_time": "2023-10-22T04:45:37.359Z"
   },
   {
    "duration": 20,
    "start_time": "2023-10-22T04:45:37.382Z"
   },
   {
    "duration": 41,
    "start_time": "2023-10-22T04:45:37.403Z"
   },
   {
    "duration": 10,
    "start_time": "2023-10-22T04:45:37.446Z"
   },
   {
    "duration": 25,
    "start_time": "2023-10-22T04:45:37.458Z"
   },
   {
    "duration": 22,
    "start_time": "2023-10-22T04:45:37.485Z"
   },
   {
    "duration": 23,
    "start_time": "2023-10-22T04:45:37.510Z"
   },
   {
    "duration": 31,
    "start_time": "2023-10-22T04:45:37.537Z"
   },
   {
    "duration": 13,
    "start_time": "2023-10-22T04:45:37.570Z"
   },
   {
    "duration": 26,
    "start_time": "2023-10-22T04:45:37.584Z"
   },
   {
    "duration": 12,
    "start_time": "2023-10-22T04:45:37.612Z"
   },
   {
    "duration": 20,
    "start_time": "2023-10-22T04:45:37.626Z"
   },
   {
    "duration": 14,
    "start_time": "2023-10-22T04:45:37.648Z"
   },
   {
    "duration": 198,
    "start_time": "2023-10-22T04:45:37.664Z"
   },
   {
    "duration": 6,
    "start_time": "2023-10-22T04:45:37.864Z"
   },
   {
    "duration": 16,
    "start_time": "2023-10-22T04:45:37.871Z"
   },
   {
    "duration": 24,
    "start_time": "2023-10-22T04:45:37.889Z"
   },
   {
    "duration": 23,
    "start_time": "2023-10-22T04:45:37.915Z"
   },
   {
    "duration": 11,
    "start_time": "2023-10-22T04:45:37.940Z"
   },
   {
    "duration": 49,
    "start_time": "2023-10-22T04:45:37.953Z"
   },
   {
    "duration": 178,
    "start_time": "2023-10-22T04:45:38.004Z"
   },
   {
    "duration": 131,
    "start_time": "2023-10-22T04:45:38.184Z"
   },
   {
    "duration": 164,
    "start_time": "2023-10-22T04:45:38.317Z"
   },
   {
    "duration": 203,
    "start_time": "2023-10-22T04:45:38.483Z"
   },
   {
    "duration": 176,
    "start_time": "2023-10-22T04:45:38.688Z"
   },
   {
    "duration": 38,
    "start_time": "2023-10-22T04:45:38.866Z"
   },
   {
    "duration": 30,
    "start_time": "2023-10-22T04:45:38.907Z"
   },
   {
    "duration": 28,
    "start_time": "2023-10-22T04:45:38.940Z"
   },
   {
    "duration": 192,
    "start_time": "2023-10-22T04:45:38.971Z"
   },
   {
    "duration": 219,
    "start_time": "2023-10-22T04:45:39.165Z"
   },
   {
    "duration": 52,
    "start_time": "2023-10-22T04:45:39.387Z"
   },
   {
    "duration": 4,
    "start_time": "2023-10-22T04:45:39.441Z"
   },
   {
    "duration": 800,
    "start_time": "2023-10-22T04:45:39.447Z"
   },
   {
    "duration": 6,
    "start_time": "2023-10-22T04:45:40.249Z"
   },
   {
    "duration": 9,
    "start_time": "2023-10-22T04:45:40.259Z"
   },
   {
    "duration": 32,
    "start_time": "2023-10-22T04:45:40.270Z"
   },
   {
    "duration": 334,
    "start_time": "2023-10-22T04:45:40.304Z"
   },
   {
    "duration": 3,
    "start_time": "2023-10-22T04:45:40.640Z"
   },
   {
    "duration": 314,
    "start_time": "2023-10-22T04:45:40.646Z"
   },
   {
    "duration": 7,
    "start_time": "2023-10-22T04:45:40.963Z"
   },
   {
    "duration": 67,
    "start_time": "2023-10-22T04:45:40.972Z"
   },
   {
    "duration": 7,
    "start_time": "2023-10-22T04:45:41.041Z"
   },
   {
    "duration": 193,
    "start_time": "2023-10-22T04:45:41.050Z"
   },
   {
    "duration": 50026,
    "start_time": "2023-10-22T04:45:41.245Z"
   },
   {
    "duration": 4,
    "start_time": "2023-10-22T05:11:32.435Z"
   },
   {
    "duration": 198,
    "start_time": "2023-10-22T05:30:13.736Z"
   },
   {
    "duration": 36549,
    "start_time": "2023-10-22T06:28:38.774Z"
   },
   {
    "duration": 4,
    "start_time": "2023-10-22T10:14:06.866Z"
   },
   {
    "duration": 135,
    "start_time": "2023-10-22T10:14:57.583Z"
   },
   {
    "duration": 4,
    "start_time": "2023-10-22T10:15:01.691Z"
   },
   {
    "duration": 4,
    "start_time": "2023-10-22T10:15:05.506Z"
   },
   {
    "duration": 36696,
    "start_time": "2023-10-22T10:27:46.566Z"
   },
   {
    "duration": 36739,
    "start_time": "2023-10-22T10:28:31.272Z"
   },
   {
    "duration": 37746,
    "start_time": "2023-10-22T10:29:08.013Z"
   },
   {
    "duration": 37479,
    "start_time": "2023-10-22T10:30:03.181Z"
   },
   {
    "duration": 37168,
    "start_time": "2023-10-22T10:32:32.617Z"
   },
   {
    "duration": 4,
    "start_time": "2023-10-22T10:33:30.767Z"
   },
   {
    "duration": 37155,
    "start_time": "2023-10-22T10:35:03.712Z"
   },
   {
    "duration": 36182,
    "start_time": "2023-10-22T10:37:57.466Z"
   },
   {
    "duration": 6,
    "start_time": "2023-10-22T10:39:43.550Z"
   },
   {
    "duration": 5,
    "start_time": "2023-10-22T10:46:00.470Z"
   },
   {
    "duration": 2,
    "start_time": "2023-10-22T10:49:42.194Z"
   },
   {
    "duration": 3,
    "start_time": "2023-10-22T13:24:12.382Z"
   },
   {
    "duration": 69,
    "start_time": "2023-10-22T13:24:57.506Z"
   },
   {
    "duration": 106,
    "start_time": "2023-10-22T13:25:36.877Z"
   },
   {
    "duration": 9,
    "start_time": "2023-10-22T13:30:42.801Z"
   },
   {
    "duration": 3,
    "start_time": "2023-10-22T13:31:39.030Z"
   },
   {
    "duration": 67,
    "start_time": "2023-10-22T13:31:40.531Z"
   },
   {
    "duration": 12,
    "start_time": "2023-10-22T13:31:50.321Z"
   },
   {
    "duration": 9,
    "start_time": "2023-10-22T13:31:50.981Z"
   },
   {
    "duration": 9,
    "start_time": "2023-10-22T13:31:51.732Z"
   },
   {
    "duration": 12,
    "start_time": "2023-10-22T13:31:52.502Z"
   },
   {
    "duration": 15,
    "start_time": "2023-10-22T13:31:53.173Z"
   },
   {
    "duration": 10,
    "start_time": "2023-10-22T13:31:53.942Z"
   },
   {
    "duration": 16,
    "start_time": "2023-10-22T13:31:59.548Z"
   },
   {
    "duration": 9,
    "start_time": "2023-10-22T13:32:07.952Z"
   },
   {
    "duration": 6,
    "start_time": "2023-10-22T13:32:10.226Z"
   },
   {
    "duration": 5,
    "start_time": "2023-10-22T13:32:11.586Z"
   },
   {
    "duration": 6,
    "start_time": "2023-10-22T13:32:12.873Z"
   },
   {
    "duration": 9,
    "start_time": "2023-10-22T13:32:14.409Z"
   },
   {
    "duration": 5,
    "start_time": "2023-10-22T13:32:16.114Z"
   },
   {
    "duration": 5,
    "start_time": "2023-10-22T13:32:19.213Z"
   },
   {
    "duration": 5,
    "start_time": "2023-10-22T13:32:21.272Z"
   },
   {
    "duration": 5,
    "start_time": "2023-10-22T13:32:23.225Z"
   },
   {
    "duration": 5,
    "start_time": "2023-10-22T13:32:24.501Z"
   },
   {
    "duration": 138,
    "start_time": "2023-10-22T13:32:25.765Z"
   },
   {
    "duration": 9,
    "start_time": "2023-10-22T13:32:26.562Z"
   },
   {
    "duration": 5,
    "start_time": "2023-10-22T13:32:27.593Z"
   },
   {
    "duration": 5,
    "start_time": "2023-10-22T13:32:28.351Z"
   },
   {
    "duration": 4,
    "start_time": "2023-10-22T13:32:29.826Z"
   },
   {
    "duration": 6,
    "start_time": "2023-10-22T13:32:31.277Z"
   },
   {
    "duration": 6,
    "start_time": "2023-10-22T13:32:32.035Z"
   },
   {
    "duration": 159,
    "start_time": "2023-10-22T13:32:42.286Z"
   },
   {
    "duration": 115,
    "start_time": "2023-10-22T13:32:45.048Z"
   },
   {
    "duration": 152,
    "start_time": "2023-10-22T13:32:46.798Z"
   },
   {
    "duration": 141,
    "start_time": "2023-10-22T13:32:51.320Z"
   },
   {
    "duration": 153,
    "start_time": "2023-10-22T13:32:54.261Z"
   },
   {
    "duration": 31,
    "start_time": "2023-10-22T13:33:04.122Z"
   },
   {
    "duration": 10,
    "start_time": "2023-10-22T13:33:09.966Z"
   },
   {
    "duration": 163,
    "start_time": "2023-10-22T13:33:49.962Z"
   },
   {
    "duration": 20,
    "start_time": "2023-10-22T13:34:06.098Z"
   },
   {
    "duration": 29,
    "start_time": "2023-10-22T13:34:09.833Z"
   },
   {
    "duration": 157,
    "start_time": "2023-10-22T13:34:13.908Z"
   },
   {
    "duration": 184,
    "start_time": "2023-10-22T13:34:39.081Z"
   },
   {
    "duration": 36,
    "start_time": "2023-10-22T13:35:21.456Z"
   },
   {
    "duration": 4,
    "start_time": "2023-10-22T13:35:23.158Z"
   },
   {
    "duration": 867,
    "start_time": "2023-10-22T13:35:23.842Z"
   },
   {
    "duration": 9,
    "start_time": "2023-10-22T13:36:00.315Z"
   },
   {
    "duration": 87,
    "start_time": "2023-10-22T13:39:30.725Z"
   },
   {
    "duration": 6,
    "start_time": "2023-10-22T13:39:46.346Z"
   },
   {
    "duration": 3,
    "start_time": "2023-10-22T13:39:49.277Z"
   },
   {
    "duration": 295,
    "start_time": "2023-10-22T13:39:50.027Z"
   },
   {
    "duration": 4,
    "start_time": "2023-10-22T13:39:51.100Z"
   },
   {
    "duration": 287,
    "start_time": "2023-10-22T13:39:51.994Z"
   },
   {
    "duration": 8,
    "start_time": "2023-10-22T13:39:53.234Z"
   },
   {
    "duration": 181,
    "start_time": "2023-10-22T13:42:51.083Z"
   },
   {
    "duration": 37832,
    "start_time": "2023-10-22T13:43:20.813Z"
   },
   {
    "duration": 7,
    "start_time": "2023-10-22T13:43:58.647Z"
   },
   {
    "duration": 7,
    "start_time": "2023-10-22T13:53:38.974Z"
   },
   {
    "duration": 7,
    "start_time": "2023-10-22T13:53:48.242Z"
   },
   {
    "duration": 7,
    "start_time": "2023-10-22T13:54:18.889Z"
   },
   {
    "duration": 8,
    "start_time": "2023-10-22T13:55:22.149Z"
   },
   {
    "duration": 89,
    "start_time": "2023-10-22T13:59:59.148Z"
   },
   {
    "duration": 139,
    "start_time": "2023-10-22T14:04:40.604Z"
   },
   {
    "duration": 183,
    "start_time": "2023-10-22T14:07:23.505Z"
   },
   {
    "duration": 210,
    "start_time": "2023-10-22T14:09:42.100Z"
   },
   {
    "duration": 167,
    "start_time": "2023-10-22T14:11:25.320Z"
   },
   {
    "duration": 201,
    "start_time": "2023-10-22T14:12:54.532Z"
   },
   {
    "duration": 97,
    "start_time": "2023-10-22T14:23:09.954Z"
   },
   {
    "duration": 254,
    "start_time": "2023-10-22T14:25:17.837Z"
   },
   {
    "duration": 190,
    "start_time": "2023-10-22T14:25:23.412Z"
   },
   {
    "duration": 18,
    "start_time": "2023-10-22T14:48:14.438Z"
   },
   {
    "duration": 18,
    "start_time": "2023-10-22T14:48:51.082Z"
   },
   {
    "duration": 14,
    "start_time": "2023-10-22T14:48:58.417Z"
   },
   {
    "duration": 18,
    "start_time": "2023-10-22T14:49:39.879Z"
   },
   {
    "duration": 19,
    "start_time": "2023-10-22T14:50:58.637Z"
   },
   {
    "duration": 150,
    "start_time": "2023-10-22T14:52:21.108Z"
   },
   {
    "duration": 173,
    "start_time": "2023-10-22T14:52:32.171Z"
   },
   {
    "duration": 182,
    "start_time": "2023-10-22T14:53:37.879Z"
   },
   {
    "duration": 147,
    "start_time": "2023-10-22T14:53:53.514Z"
   },
   {
    "duration": 158,
    "start_time": "2023-10-22T14:54:59.414Z"
   },
   {
    "duration": 172,
    "start_time": "2023-10-22T14:55:08.924Z"
   },
   {
    "duration": 186,
    "start_time": "2023-10-22T14:55:47.262Z"
   },
   {
    "duration": 9,
    "start_time": "2023-10-22T14:56:28.389Z"
   },
   {
    "duration": 173,
    "start_time": "2023-10-22T14:59:40.993Z"
   },
   {
    "duration": 180,
    "start_time": "2023-10-22T14:59:57.705Z"
   },
   {
    "duration": 166,
    "start_time": "2023-10-22T15:00:03.665Z"
   },
   {
    "duration": 207,
    "start_time": "2023-10-22T15:06:07.531Z"
   },
   {
    "duration": 203,
    "start_time": "2023-10-22T15:13:16.773Z"
   },
   {
    "duration": 170,
    "start_time": "2023-10-22T15:13:41.489Z"
   },
   {
    "duration": 149,
    "start_time": "2023-10-22T15:14:08.955Z"
   },
   {
    "duration": 168,
    "start_time": "2023-10-22T15:14:21.186Z"
   },
   {
    "duration": 156,
    "start_time": "2023-10-22T15:14:28.351Z"
   },
   {
    "duration": 157,
    "start_time": "2023-10-22T15:14:36.815Z"
   },
   {
    "duration": 94,
    "start_time": "2023-10-22T15:16:47.378Z"
   },
   {
    "duration": 182,
    "start_time": "2023-10-22T15:24:42.708Z"
   },
   {
    "duration": 166,
    "start_time": "2023-10-22T15:26:15.122Z"
   },
   {
    "duration": 80,
    "start_time": "2023-10-22T15:31:24.793Z"
   },
   {
    "duration": 1193,
    "start_time": "2023-10-22T15:31:36.782Z"
   },
   {
    "duration": 70,
    "start_time": "2023-10-22T15:31:37.977Z"
   },
   {
    "duration": 12,
    "start_time": "2023-10-22T15:31:38.049Z"
   },
   {
    "duration": 11,
    "start_time": "2023-10-22T15:31:38.064Z"
   },
   {
    "duration": 27,
    "start_time": "2023-10-22T15:31:38.076Z"
   },
   {
    "duration": 21,
    "start_time": "2023-10-22T15:31:38.105Z"
   },
   {
    "duration": 24,
    "start_time": "2023-10-22T15:31:38.128Z"
   },
   {
    "duration": 12,
    "start_time": "2023-10-22T15:31:38.154Z"
   },
   {
    "duration": 43,
    "start_time": "2023-10-22T15:31:38.168Z"
   },
   {
    "duration": 9,
    "start_time": "2023-10-22T15:31:38.215Z"
   },
   {
    "duration": 8,
    "start_time": "2023-10-22T15:31:38.226Z"
   },
   {
    "duration": 6,
    "start_time": "2023-10-22T15:31:38.236Z"
   },
   {
    "duration": 7,
    "start_time": "2023-10-22T15:31:38.244Z"
   },
   {
    "duration": 49,
    "start_time": "2023-10-22T15:31:38.254Z"
   },
   {
    "duration": 10,
    "start_time": "2023-10-22T15:31:38.305Z"
   },
   {
    "duration": 11,
    "start_time": "2023-10-22T15:31:38.318Z"
   },
   {
    "duration": 14,
    "start_time": "2023-10-22T15:31:38.332Z"
   },
   {
    "duration": 8,
    "start_time": "2023-10-22T15:31:38.348Z"
   },
   {
    "duration": 10,
    "start_time": "2023-10-22T15:31:38.358Z"
   },
   {
    "duration": 224,
    "start_time": "2023-10-22T15:31:38.370Z"
   },
   {
    "duration": 6,
    "start_time": "2023-10-22T15:31:38.601Z"
   },
   {
    "duration": 5,
    "start_time": "2023-10-22T15:31:38.609Z"
   },
   {
    "duration": 4,
    "start_time": "2023-10-22T15:31:38.616Z"
   },
   {
    "duration": 6,
    "start_time": "2023-10-22T15:31:38.622Z"
   },
   {
    "duration": 7,
    "start_time": "2023-10-22T15:31:38.631Z"
   },
   {
    "duration": 10,
    "start_time": "2023-10-22T15:31:38.640Z"
   },
   {
    "duration": 60,
    "start_time": "2023-10-22T15:31:38.653Z"
   },
   {
    "duration": 209,
    "start_time": "2023-10-22T15:31:38.719Z"
   },
   {
    "duration": 173,
    "start_time": "2023-10-22T15:31:38.931Z"
   },
   {
    "duration": 208,
    "start_time": "2023-10-22T15:31:39.106Z"
   },
   {
    "duration": 10,
    "start_time": "2023-10-22T15:31:39.316Z"
   },
   {
    "duration": 199,
    "start_time": "2023-10-22T15:31:39.328Z"
   },
   {
    "duration": 222,
    "start_time": "2023-10-22T15:31:39.529Z"
   },
   {
    "duration": 185,
    "start_time": "2023-10-22T15:31:39.753Z"
   },
   {
    "duration": 35,
    "start_time": "2023-10-22T15:31:39.940Z"
   },
   {
    "duration": 31,
    "start_time": "2023-10-22T15:31:39.977Z"
   },
   {
    "duration": 25,
    "start_time": "2023-10-22T15:31:40.011Z"
   },
   {
    "duration": 42,
    "start_time": "2023-10-22T15:31:40.038Z"
   },
   {
    "duration": 170,
    "start_time": "2023-10-22T15:31:40.082Z"
   },
   {
    "duration": 154,
    "start_time": "2023-10-22T15:31:40.254Z"
   },
   {
    "duration": 262,
    "start_time": "2023-10-22T15:31:40.409Z"
   },
   {
    "duration": 159,
    "start_time": "2023-10-22T15:31:40.673Z"
   },
   {
    "duration": 143,
    "start_time": "2023-10-22T15:31:40.834Z"
   },
   {
    "duration": 200,
    "start_time": "2023-10-22T15:34:11.272Z"
   },
   {
    "duration": 99,
    "start_time": "2023-10-22T15:35:12.959Z"
   },
   {
    "duration": 4,
    "start_time": "2023-10-22T15:36:41.191Z"
   },
   {
    "duration": 90,
    "start_time": "2023-10-22T15:36:41.198Z"
   },
   {
    "duration": 12,
    "start_time": "2023-10-22T15:36:41.290Z"
   },
   {
    "duration": 14,
    "start_time": "2023-10-22T15:36:41.304Z"
   },
   {
    "duration": 15,
    "start_time": "2023-10-22T15:36:41.322Z"
   },
   {
    "duration": 20,
    "start_time": "2023-10-22T15:36:41.339Z"
   },
   {
    "duration": 46,
    "start_time": "2023-10-22T15:36:41.361Z"
   },
   {
    "duration": 15,
    "start_time": "2023-10-22T15:36:41.409Z"
   },
   {
    "duration": 59,
    "start_time": "2023-10-22T15:36:41.426Z"
   },
   {
    "duration": 12,
    "start_time": "2023-10-22T15:36:41.487Z"
   },
   {
    "duration": 10,
    "start_time": "2023-10-22T15:36:41.501Z"
   },
   {
    "duration": 60,
    "start_time": "2023-10-22T15:36:41.513Z"
   },
   {
    "duration": 151,
    "start_time": "2023-10-22T15:36:41.575Z"
   },
   {
    "duration": 13,
    "start_time": "2023-10-22T15:36:41.731Z"
   },
   {
    "duration": 6,
    "start_time": "2023-10-22T15:36:41.746Z"
   },
   {
    "duration": 25,
    "start_time": "2023-10-22T15:36:41.754Z"
   },
   {
    "duration": 13,
    "start_time": "2023-10-22T15:36:41.782Z"
   },
   {
    "duration": 10,
    "start_time": "2023-10-22T15:36:41.797Z"
   },
   {
    "duration": 10,
    "start_time": "2023-10-22T15:36:41.809Z"
   },
   {
    "duration": 185,
    "start_time": "2023-10-22T15:36:41.821Z"
   },
   {
    "duration": 6,
    "start_time": "2023-10-22T15:36:42.008Z"
   },
   {
    "duration": 29,
    "start_time": "2023-10-22T15:36:42.016Z"
   },
   {
    "duration": 8,
    "start_time": "2023-10-22T15:36:42.048Z"
   },
   {
    "duration": 8,
    "start_time": "2023-10-22T15:36:42.058Z"
   },
   {
    "duration": 12,
    "start_time": "2023-10-22T15:36:42.068Z"
   },
   {
    "duration": 21,
    "start_time": "2023-10-22T15:36:42.082Z"
   },
   {
    "duration": 16,
    "start_time": "2023-10-22T15:36:42.105Z"
   },
   {
    "duration": 191,
    "start_time": "2023-10-22T15:36:42.123Z"
   },
   {
    "duration": 146,
    "start_time": "2023-10-22T15:36:42.316Z"
   },
   {
    "duration": 188,
    "start_time": "2023-10-22T15:36:42.463Z"
   },
   {
    "duration": 10,
    "start_time": "2023-10-22T15:36:42.653Z"
   },
   {
    "duration": 194,
    "start_time": "2023-10-22T15:36:42.666Z"
   },
   {
    "duration": 339,
    "start_time": "2023-10-22T15:36:42.862Z"
   },
   {
    "duration": 205,
    "start_time": "2023-10-22T15:36:43.203Z"
   },
   {
    "duration": 37,
    "start_time": "2023-10-22T15:36:43.411Z"
   },
   {
    "duration": 14,
    "start_time": "2023-10-22T15:36:43.451Z"
   },
   {
    "duration": 57,
    "start_time": "2023-10-22T15:36:43.467Z"
   },
   {
    "duration": 21,
    "start_time": "2023-10-22T15:36:43.526Z"
   },
   {
    "duration": 207,
    "start_time": "2023-10-22T15:36:43.549Z"
   },
   {
    "duration": 298,
    "start_time": "2023-10-22T15:36:43.758Z"
   },
   {
    "duration": 190,
    "start_time": "2023-10-22T15:36:44.063Z"
   },
   {
    "duration": 195,
    "start_time": "2023-10-22T15:36:44.258Z"
   },
   {
    "duration": 127,
    "start_time": "2023-10-22T15:36:44.455Z"
   },
   {
    "duration": 0,
    "start_time": "2023-10-22T15:36:44.585Z"
   },
   {
    "duration": 0,
    "start_time": "2023-10-22T15:36:44.586Z"
   },
   {
    "duration": 0,
    "start_time": "2023-10-22T15:36:44.588Z"
   },
   {
    "duration": 0,
    "start_time": "2023-10-22T15:36:44.590Z"
   },
   {
    "duration": 0,
    "start_time": "2023-10-22T15:36:44.591Z"
   },
   {
    "duration": 0,
    "start_time": "2023-10-22T15:36:44.593Z"
   },
   {
    "duration": 0,
    "start_time": "2023-10-22T15:36:44.595Z"
   },
   {
    "duration": 0,
    "start_time": "2023-10-22T15:36:44.597Z"
   },
   {
    "duration": 0,
    "start_time": "2023-10-22T15:36:44.599Z"
   },
   {
    "duration": 0,
    "start_time": "2023-10-22T15:36:44.600Z"
   },
   {
    "duration": 0,
    "start_time": "2023-10-22T15:36:44.602Z"
   },
   {
    "duration": 0,
    "start_time": "2023-10-22T15:36:44.603Z"
   },
   {
    "duration": 0,
    "start_time": "2023-10-22T15:36:44.605Z"
   },
   {
    "duration": 200,
    "start_time": "2023-10-22T15:38:05.406Z"
   },
   {
    "duration": 115,
    "start_time": "2023-10-22T15:38:11.915Z"
   },
   {
    "duration": 121,
    "start_time": "2023-10-22T15:38:18.335Z"
   },
   {
    "duration": 156,
    "start_time": "2023-10-22T15:38:36.498Z"
   },
   {
    "duration": 145,
    "start_time": "2023-10-22T15:46:17.942Z"
   },
   {
    "duration": 304,
    "start_time": "2023-10-22T15:46:32.951Z"
   },
   {
    "duration": 156,
    "start_time": "2023-10-22T15:46:57.025Z"
   },
   {
    "duration": 222,
    "start_time": "2023-10-22T15:47:32.974Z"
   },
   {
    "duration": 107,
    "start_time": "2023-10-22T15:47:54.490Z"
   },
   {
    "duration": 245,
    "start_time": "2023-10-22T15:48:01.593Z"
   },
   {
    "duration": 152,
    "start_time": "2023-10-22T15:48:28.973Z"
   },
   {
    "duration": 178,
    "start_time": "2023-10-22T15:49:54.902Z"
   },
   {
    "duration": 174,
    "start_time": "2023-10-22T15:50:25.634Z"
   },
   {
    "duration": 171,
    "start_time": "2023-10-22T15:50:47.894Z"
   },
   {
    "duration": 141,
    "start_time": "2023-10-22T15:51:09.708Z"
   },
   {
    "duration": 163,
    "start_time": "2023-10-22T15:51:30.688Z"
   },
   {
    "duration": 295,
    "start_time": "2023-10-22T15:54:37.380Z"
   },
   {
    "duration": 141,
    "start_time": "2023-10-22T15:56:13.769Z"
   },
   {
    "duration": 170,
    "start_time": "2023-10-22T15:57:05.202Z"
   },
   {
    "duration": 158,
    "start_time": "2023-10-22T15:57:30.995Z"
   },
   {
    "duration": 263,
    "start_time": "2023-10-22T15:58:22.270Z"
   },
   {
    "duration": 175,
    "start_time": "2023-10-22T15:59:48.380Z"
   },
   {
    "duration": 252420,
    "start_time": "2023-10-22T16:02:33.274Z"
   },
   {
    "duration": 166,
    "start_time": "2023-10-22T16:09:28.295Z"
   },
   {
    "duration": 181,
    "start_time": "2023-10-22T16:11:26.817Z"
   },
   {
    "duration": 77,
    "start_time": "2023-10-22T16:13:15.480Z"
   }
  ],
  "kernelspec": {
   "display_name": "Python 3",
   "language": "python",
   "name": "python3"
  },
  "language_info": {
   "codemirror_mode": {
    "name": "ipython",
    "version": 3
   },
   "file_extension": ".py",
   "mimetype": "text/x-python",
   "name": "python",
   "nbconvert_exporter": "python",
   "pygments_lexer": "ipython3",
   "version": "3.7.4"
  },
  "toc": {
   "base_numbering": 1,
   "nav_menu": {},
   "number_sections": true,
   "sideBar": true,
   "skip_h1_title": true,
   "title_cell": "Table of Contents",
   "title_sidebar": "Contents",
   "toc_cell": false,
   "toc_position": {},
   "toc_section_display": true,
   "toc_window_display": true
  }
 },
 "nbformat": 4,
 "nbformat_minor": 5
}
